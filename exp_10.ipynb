{
 "cells": [
  {
   "cell_type": "markdown",
   "metadata": {},
   "source": [
    "# Experiment 1\n",
    "\n",
    "1. Create a random sat formula\n",
    "* n = 10\n",
    "* k = 3\n",
    "* r = 4.0, 4.2, 4.4, 4.6\n",
    "\n",
    "\n",
    "1. Check the number of sat clauses with the following solvers (mean over 10 times)\n",
    "* Learning solver with greedy baseline trainable initial state\n",
    "* Learning solver with greedy baseline and zeros initial state"
   ]
  },
  {
   "cell_type": "code",
   "execution_count": 1,
   "metadata": {},
   "outputs": [],
   "source": [
    "import torch\n",
    "\n",
    "from src.decoders import RNNDecoder\n",
    "from src.encoder_decoder import EncoderDecoder\n",
    "from src.embeddings import BasicEmbedding, IdentityEmbedding\n",
    "from src.baselines import BaselineRollout\n",
    "from src.init_states import TrainableState\n",
    "\n",
    "from src.generator import UniformGenerator\n",
    "from src.run_solvers import random_solver, learning_solver\n",
    "\n",
    "import numpy as np\n",
    "import pandas as pd\n",
    "import matplotlib.pyplot as plt\n",
    "import seaborn as sns\n",
    "from tqdm.auto import tqdm\n",
    "\n",
    "import tensorboard as tb\n",
    "from torch.utils.tensorboard import SummaryWriter"
   ]
  },
  {
   "cell_type": "code",
   "execution_count": 2,
   "metadata": {},
   "outputs": [],
   "source": [
    "def run_model_zstate(formula, baseline):\n",
    "    # Architecture\n",
    "    cell = 'GRU'\n",
    "    hidden_size = 128\n",
    "    num_layers = 1\n",
    "    dropout = 0\n",
    "    clip_logits_c = 0 #(default: 0)\n",
    "\n",
    "    ## Embeddings\n",
    "    embedding_size = 32\n",
    "    assignment_emb = BasicEmbedding(num_labels=3, embedding_size=embedding_size)\n",
    "    variable_emb = BasicEmbedding(num_labels=num_variables, embedding_size=embedding_size)\n",
    "    context_emb = IdentityEmbedding()\n",
    "    input_size = embedding_size * 2\n",
    "\n",
    "    # Encoder\n",
    "    encoder = None\n",
    "    decoder = RNNDecoder(input_size = input_size,\n",
    "                        cell = cell,\n",
    "                        assignment_emb = assignment_emb,\n",
    "                        variable_emb = variable_emb,\n",
    "                        context_emb = context_emb,\n",
    "                        hidden_size = hidden_size,\n",
    "                        num_layers = num_layers,\n",
    "                        dropout = dropout,\n",
    "                        clip_logits_c = clip_logits_c)\n",
    "    ## Initializers\n",
    "    init_dec_var = None\n",
    "    init_dec_context = None\n",
    "    init_dec_state = None\n",
    "\n",
    "    ## Network\n",
    "    policy_network = EncoderDecoder(encoder=encoder,\n",
    "                                    decoder=decoder,\n",
    "                                    init_dec_var=init_dec_var,\n",
    "                                    init_dec_context=init_dec_context,\n",
    "                                    init_dec_state=init_dec_state)\n",
    "\n",
    "    # Training hyperparameters\n",
    "    num_episodes = 500\n",
    "    accumulation_steps = 1\n",
    "    lr = 1e-3\n",
    "    device = 'cuda' if torch.cuda.is_available() else 'cpu'\n",
    "    #baseline = \n",
    "    entropy_weight = 0\n",
    "    clip_val = 1\n",
    "    verbose = 1\n",
    "\n",
    "    variables = None\n",
    "\n",
    "    # num_sat, history_loss, history_num_sat\n",
    "    return learning_solver(formula=formula,\n",
    "                        num_variables=num_variables,\n",
    "                        variables=variables,\n",
    "                        encoder=encoder,\n",
    "                        decoder=decoder,\n",
    "                        init_dec_var=init_dec_var,\n",
    "                        init_dec_context=init_dec_context,\n",
    "                        init_dec_state=init_dec_state, \n",
    "                        num_episodes=num_episodes,\n",
    "                        accumulation_steps=accumulation_steps,\n",
    "                        lr=lr,\n",
    "                        device=device,\n",
    "                        baseline=baseline,\n",
    "                        entropy_weight=entropy_weight,\n",
    "                        clip_val=clip_val,\n",
    "                        verbose=verbose)\n",
    "\n",
    "\n",
    "def run_model_tstate(formula, baseline):\n",
    "    # Architecture\n",
    "    cell = 'GRU'\n",
    "    hidden_size = 128\n",
    "    num_layers = 1\n",
    "    dropout = 0\n",
    "    clip_logits_c = 0 #(default: 0)\n",
    "\n",
    "    ## Embeddings\n",
    "    embedding_size = 32\n",
    "    assignment_emb = BasicEmbedding(num_labels=3, embedding_size=embedding_size)\n",
    "    variable_emb = BasicEmbedding(num_labels=num_variables, embedding_size=embedding_size)\n",
    "    context_emb = IdentityEmbedding()\n",
    "    input_size = embedding_size * 2\n",
    "\n",
    "    # Encoder\n",
    "    encoder = None\n",
    "    decoder = RNNDecoder(input_size = input_size,\n",
    "                        cell = cell,\n",
    "                        assignment_emb = assignment_emb,\n",
    "                        variable_emb = variable_emb,\n",
    "                        context_emb = context_emb,\n",
    "                        hidden_size = hidden_size,\n",
    "                        num_layers = num_layers,\n",
    "                        dropout = dropout,\n",
    "                        clip_logits_c = clip_logits_c)\n",
    "    ## Initializers\n",
    "    init_dec_var = None\n",
    "    init_dec_context = None\n",
    "    init_dec_state = TrainableState(cell, hidden_size, num_layers, a=-0.8, b=0.8)\n",
    "\n",
    "    ## Network\n",
    "    policy_network = EncoderDecoder(encoder=encoder,\n",
    "                                    decoder=decoder,\n",
    "                                    init_dec_var=init_dec_var,\n",
    "                                    init_dec_context=init_dec_context,\n",
    "                                    init_dec_state=init_dec_state)\n",
    "\n",
    "    # Training hyperparameters\n",
    "    num_episodes = 500\n",
    "    accumulation_steps = 1\n",
    "    lr = 1e-3\n",
    "    device = 'cuda' if torch.cuda.is_available() else 'cpu'\n",
    "    #baseline = \n",
    "    entropy_weight = 0\n",
    "    clip_val = 1\n",
    "    verbose = 1\n",
    "\n",
    "    variables = None\n",
    "\n",
    "    # num_sat, history_loss, history_num_sat\n",
    "    return learning_solver(formula=formula,\n",
    "                        num_variables=num_variables,\n",
    "                        variables=variables,\n",
    "                        encoder=encoder,\n",
    "                        decoder=decoder,\n",
    "                        init_dec_var=init_dec_var,\n",
    "                        init_dec_context=init_dec_context,\n",
    "                        init_dec_state=init_dec_state, \n",
    "                        num_episodes=num_episodes,\n",
    "                        accumulation_steps=accumulation_steps,\n",
    "                        lr=lr,\n",
    "                        device=device,\n",
    "                        baseline=baseline,\n",
    "                        entropy_weight=entropy_weight,\n",
    "                        clip_val=clip_val,\n",
    "                        verbose=verbose)"
   ]
  },
  {
   "cell_type": "code",
   "execution_count": 3,
   "metadata": {},
   "outputs": [
    {
     "name": "stdout",
     "output_type": "stream",
     "text": [
      "r = 4.0 ...\n"
     ]
    },
    {
     "name": "stderr",
     "output_type": "stream",
     "text": [
      "  0%|          | 0/10 [00:00<?, ?it/s]"
     ]
    },
    {
     "name": "stdout",
     "output_type": "stream",
     "text": [
      "Episode [500/500], Mean Loss 0.0000,  Mean num sat 71.0000\n"
     ]
    },
    {
     "name": "stderr",
     "output_type": "stream",
     "text": [
      " 10%|█         | 1/10 [00:39<05:53, 39.29s/it]"
     ]
    },
    {
     "name": "stdout",
     "output_type": "stream",
     "text": [
      "Episode [500/500], Mean Loss 0.0000,  Mean num sat 71.0000\n",
      "Episode [500/500], Mean Loss -6.6923,  Mean num sat 73.0000\n"
     ]
    },
    {
     "name": "stderr",
     "output_type": "stream",
     "text": [
      " 20%|██        | 2/10 [01:19<05:18, 39.77s/it]"
     ]
    },
    {
     "name": "stdout",
     "output_type": "stream",
     "text": [
      "Episode [500/500], Mean Loss 0.0000,  Mean num sat 77.0000\n",
      "Episode [500/500], Mean Loss 17.8171,  Mean num sat 69.0000\n"
     ]
    },
    {
     "name": "stderr",
     "output_type": "stream",
     "text": [
      " 30%|███       | 3/10 [01:58<04:34, 39.26s/it]"
     ]
    },
    {
     "name": "stdout",
     "output_type": "stream",
     "text": [
      "Episode [500/500], Mean Loss 0.0000,  Mean num sat 72.0000\n",
      "Episode [500/500], Mean Loss 2.1046,  Mean num sat 74.0000\n"
     ]
    },
    {
     "name": "stderr",
     "output_type": "stream",
     "text": [
      " 40%|████      | 4/10 [02:36<03:54, 39.01s/it]"
     ]
    },
    {
     "name": "stdout",
     "output_type": "stream",
     "text": [
      "Episode [500/500], Mean Loss 0.0000,  Mean num sat 69.0000\n",
      "Episode [500/500], Mean Loss 11.8719,  Mean num sat 68.0000\n"
     ]
    },
    {
     "name": "stderr",
     "output_type": "stream",
     "text": [
      " 50%|█████     | 5/10 [03:14<03:13, 38.68s/it]"
     ]
    },
    {
     "name": "stdout",
     "output_type": "stream",
     "text": [
      "Episode [500/500], Mean Loss 4.9205,  Mean num sat 74.0000\n",
      "Episode [500/500], Mean Loss 0.0000,  Mean num sat 76.0000\n"
     ]
    },
    {
     "name": "stderr",
     "output_type": "stream",
     "text": [
      " 60%|██████    | 6/10 [03:55<02:37, 39.50s/it]"
     ]
    },
    {
     "name": "stdout",
     "output_type": "stream",
     "text": [
      "Episode [500/500], Mean Loss 0.0000,  Mean num sat 76.0000\n",
      "Episode [500/500], Mean Loss 0.0000,  Mean num sat 72.0000\n"
     ]
    },
    {
     "name": "stderr",
     "output_type": "stream",
     "text": [
      " 70%|███████   | 7/10 [04:36<01:59, 39.95s/it]"
     ]
    },
    {
     "name": "stdout",
     "output_type": "stream",
     "text": [
      "Episode [500/500], Mean Loss 0.0000,  Mean num sat 72.0000\n",
      "Episode [500/500], Mean Loss 0.0000,  Mean num sat 75.0000\n"
     ]
    },
    {
     "name": "stderr",
     "output_type": "stream",
     "text": [
      " 80%|████████  | 8/10 [05:13<01:18, 39.03s/it]"
     ]
    },
    {
     "name": "stdout",
     "output_type": "stream",
     "text": [
      "Episode [500/500], Mean Loss 0.0000,  Mean num sat 75.0000\n",
      "Episode [500/500], Mean Loss 0.0000,  Mean num sat 73.0000\n"
     ]
    },
    {
     "name": "stderr",
     "output_type": "stream",
     "text": [
      " 90%|█████████ | 9/10 [05:50<00:38, 38.40s/it]"
     ]
    },
    {
     "name": "stdout",
     "output_type": "stream",
     "text": [
      "Episode [500/500], Mean Loss -11.8683,  Mean num sat 69.0000\n",
      "Episode [500/500], Mean Loss 0.0000,  Mean num sat 73.0000\n"
     ]
    },
    {
     "name": "stderr",
     "output_type": "stream",
     "text": [
      "100%|██████████| 10/10 [06:29<00:00, 38.92s/it]\n"
     ]
    },
    {
     "name": "stdout",
     "output_type": "stream",
     "text": [
      "Episode [500/500], Mean Loss 0.0000,  Mean num sat 73.0000\n",
      "r = 4.2 ...\n"
     ]
    },
    {
     "name": "stderr",
     "output_type": "stream",
     "text": [
      "  0%|          | 0/10 [00:00<?, ?it/s]"
     ]
    },
    {
     "name": "stdout",
     "output_type": "stream",
     "text": [
      "Episode [500/500], Mean Loss 0.0000,  Mean num sat 81.0000\n"
     ]
    },
    {
     "name": "stderr",
     "output_type": "stream",
     "text": [
      " 10%|█         | 1/10 [00:42<06:23, 42.61s/it]"
     ]
    },
    {
     "name": "stdout",
     "output_type": "stream",
     "text": [
      "Episode [500/500], Mean Loss -9.8188,  Mean num sat 75.0000\n",
      "Episode [500/500], Mean Loss -103.6918,  Mean num sat 65.0000\n"
     ]
    },
    {
     "name": "stderr",
     "output_type": "stream",
     "text": [
      " 20%|██        | 2/10 [01:20<05:16, 39.59s/it]"
     ]
    },
    {
     "name": "stdout",
     "output_type": "stream",
     "text": [
      "Episode [500/500], Mean Loss 0.0000,  Mean num sat 77.0000\n",
      "Episode [500/500], Mean Loss 0.0000,  Mean num sat 78.0000\n"
     ]
    },
    {
     "name": "stderr",
     "output_type": "stream",
     "text": [
      " 30%|███       | 3/10 [01:59<04:36, 39.51s/it]"
     ]
    },
    {
     "name": "stdout",
     "output_type": "stream",
     "text": [
      "Episode [500/500], Mean Loss 0.0000,  Mean num sat 78.0000\n",
      "Episode [500/500], Mean Loss 0.0000,  Mean num sat 79.0000\n"
     ]
    },
    {
     "name": "stderr",
     "output_type": "stream",
     "text": [
      " 40%|████      | 4/10 [02:35<03:48, 38.06s/it]"
     ]
    },
    {
     "name": "stdout",
     "output_type": "stream",
     "text": [
      "Episode [500/500], Mean Loss 0.0000,  Mean num sat 77.0000\n",
      "Episode [500/500], Mean Loss 0.0000,  Mean num sat 78.0000\n"
     ]
    },
    {
     "name": "stderr",
     "output_type": "stream",
     "text": [
      " 50%|█████     | 5/10 [03:14<03:12, 38.47s/it]"
     ]
    },
    {
     "name": "stdout",
     "output_type": "stream",
     "text": [
      "Episode [500/500], Mean Loss 0.0000,  Mean num sat 81.0000\n",
      "Episode [500/500], Mean Loss 0.0000,  Mean num sat 73.0000\n"
     ]
    },
    {
     "name": "stderr",
     "output_type": "stream",
     "text": [
      " 60%|██████    | 6/10 [03:49<02:29, 37.40s/it]"
     ]
    },
    {
     "name": "stdout",
     "output_type": "stream",
     "text": [
      "Episode [500/500], Mean Loss 0.0000,  Mean num sat 73.0000\n",
      "Episode [500/500], Mean Loss 0.0000,  Mean num sat 80.0000\n"
     ]
    },
    {
     "name": "stderr",
     "output_type": "stream",
     "text": [
      " 70%|███████   | 7/10 [04:26<01:51, 37.15s/it]"
     ]
    },
    {
     "name": "stdout",
     "output_type": "stream",
     "text": [
      "Episode [500/500], Mean Loss 0.0000,  Mean num sat 77.0000\n",
      "Episode [500/500], Mean Loss 0.0000,  Mean num sat 79.0000\n"
     ]
    },
    {
     "name": "stderr",
     "output_type": "stream",
     "text": [
      " 80%|████████  | 8/10 [05:02<01:13, 36.78s/it]"
     ]
    },
    {
     "name": "stdout",
     "output_type": "stream",
     "text": [
      "Episode [500/500], Mean Loss 0.0000,  Mean num sat 79.0000\n",
      "Episode [500/500], Mean Loss -34.5993,  Mean num sat 72.0000\n"
     ]
    },
    {
     "name": "stderr",
     "output_type": "stream",
     "text": [
      " 90%|█████████ | 9/10 [05:42<00:37, 37.75s/it]"
     ]
    },
    {
     "name": "stdout",
     "output_type": "stream",
     "text": [
      "Episode [500/500], Mean Loss 0.0000,  Mean num sat 77.0000\n",
      "Episode [500/500], Mean Loss -11.1125,  Mean num sat 75.0000\n"
     ]
    },
    {
     "name": "stderr",
     "output_type": "stream",
     "text": [
      "100%|██████████| 10/10 [06:25<00:00, 38.53s/it]\n"
     ]
    },
    {
     "name": "stdout",
     "output_type": "stream",
     "text": [
      "Episode [500/500], Mean Loss -6.1425,  Mean num sat 76.0000\n",
      "r = 4.4 ...\n"
     ]
    },
    {
     "name": "stderr",
     "output_type": "stream",
     "text": [
      "  0%|          | 0/10 [00:00<?, ?it/s]"
     ]
    },
    {
     "name": "stdout",
     "output_type": "stream",
     "text": [
      "Episode [500/500], Mean Loss 0.0000,  Mean num sat 79.0000\n"
     ]
    },
    {
     "name": "stderr",
     "output_type": "stream",
     "text": [
      " 10%|█         | 1/10 [01:05<09:47, 65.25s/it]"
     ]
    },
    {
     "name": "stdout",
     "output_type": "stream",
     "text": [
      "Episode [500/500], Mean Loss 0.0000,  Mean num sat 85.0000\n",
      "Episode [500/500], Mean Loss 0.0000,  Mean num sat 78.0000\n"
     ]
    },
    {
     "name": "stderr",
     "output_type": "stream",
     "text": [
      " 20%|██        | 2/10 [01:55<07:30, 56.26s/it]"
     ]
    },
    {
     "name": "stdout",
     "output_type": "stream",
     "text": [
      "Episode [500/500], Mean Loss 0.0000,  Mean num sat 76.0000\n",
      "Episode [500/500], Mean Loss 0.0000,  Mean num sat 80.0000\n"
     ]
    },
    {
     "name": "stderr",
     "output_type": "stream",
     "text": [
      " 30%|███       | 3/10 [02:38<05:51, 50.24s/it]"
     ]
    },
    {
     "name": "stdout",
     "output_type": "stream",
     "text": [
      "Episode [500/500], Mean Loss 0.0000,  Mean num sat 81.0000\n",
      "Episode [500/500], Mean Loss 0.0000,  Mean num sat 85.0000\n"
     ]
    },
    {
     "name": "stderr",
     "output_type": "stream",
     "text": [
      " 40%|████      | 4/10 [03:20<04:41, 46.97s/it]"
     ]
    },
    {
     "name": "stdout",
     "output_type": "stream",
     "text": [
      "Episode [500/500], Mean Loss 0.0000,  Mean num sat 80.0000\n",
      "Episode [500/500], Mean Loss -5.7274,  Mean num sat 84.0000\n"
     ]
    },
    {
     "name": "stderr",
     "output_type": "stream",
     "text": [
      " 50%|█████     | 5/10 [04:02<03:47, 45.43s/it]"
     ]
    },
    {
     "name": "stdout",
     "output_type": "stream",
     "text": [
      "Episode [500/500], Mean Loss 0.0000,  Mean num sat 76.0000\n",
      "Episode [500/500], Mean Loss -7.4820,  Mean num sat 79.0000\n"
     ]
    },
    {
     "name": "stderr",
     "output_type": "stream",
     "text": [
      " 60%|██████    | 6/10 [04:45<02:57, 44.29s/it]"
     ]
    },
    {
     "name": "stdout",
     "output_type": "stream",
     "text": [
      "Episode [500/500], Mean Loss -47.1277,  Mean num sat 76.0000\n",
      "Episode [500/500], Mean Loss 0.0000,  Mean num sat 79.0000\n"
     ]
    },
    {
     "name": "stderr",
     "output_type": "stream",
     "text": [
      " 70%|███████   | 7/10 [05:30<02:13, 44.59s/it]"
     ]
    },
    {
     "name": "stdout",
     "output_type": "stream",
     "text": [
      "Episode [500/500], Mean Loss 0.0000,  Mean num sat 79.0000\n",
      "Episode [500/500], Mean Loss 0.0000,  Mean num sat 75.0000\n"
     ]
    },
    {
     "name": "stderr",
     "output_type": "stream",
     "text": [
      " 80%|████████  | 8/10 [06:17<01:30, 45.36s/it]"
     ]
    },
    {
     "name": "stdout",
     "output_type": "stream",
     "text": [
      "Episode [500/500], Mean Loss 0.0000,  Mean num sat 76.0000\n",
      "Episode [500/500], Mean Loss 0.0000,  Mean num sat 82.0000\n"
     ]
    },
    {
     "name": "stderr",
     "output_type": "stream",
     "text": [
      " 90%|█████████ | 9/10 [07:02<00:45, 45.19s/it]"
     ]
    },
    {
     "name": "stdout",
     "output_type": "stream",
     "text": [
      "Episode [500/500], Mean Loss 0.0000,  Mean num sat 82.0000\n",
      "Episode [500/500], Mean Loss -15.2162,  Mean num sat 80.0000\n"
     ]
    },
    {
     "name": "stderr",
     "output_type": "stream",
     "text": [
      "100%|██████████| 10/10 [07:45<00:00, 46.53s/it]"
     ]
    },
    {
     "name": "stdout",
     "output_type": "stream",
     "text": [
      "Episode [500/500], Mean Loss 0.0000,  Mean num sat 84.0000\n"
     ]
    },
    {
     "name": "stderr",
     "output_type": "stream",
     "text": [
      "\n"
     ]
    }
   ],
   "source": [
    "experiment_name = 'exp10'\n",
    "num_experiments = 10 #num of times each experiment is run\n",
    "\n",
    "# CNF Formula\n",
    "num_variables = 20  # Num variables\n",
    "k = 3   # Clause size\n",
    "r_list = [4.0, 4.2, 4.4] #Radious\n",
    "\n",
    "global_step = 0\n",
    "for _, r in enumerate(r_list):\n",
    "    print(f'r = {r} ...')\n",
    "\n",
    "    log_dir='outputs/' + experiment_name + '/runs/n' + str(num_variables) +'/'+str(r)\n",
    "    writer = SummaryWriter(log_dir = log_dir)        \n",
    "\n",
    "    # Create a sat generator\n",
    "    sat_gen = UniformGenerator(min_n = num_variables,\n",
    "                                max_n = num_variables,\n",
    "                                min_k = k,\n",
    "                                max_k = k,\n",
    "                                min_r = r,\n",
    "                                max_r = r)\n",
    "    \n",
    "    for _ in tqdm(range(num_experiments)):\n",
    "            \n",
    "        # Create a random sat formula\n",
    "        n, r, m, formula = sat_gen.generate_formula()\n",
    "\n",
    "        ##################################################################\n",
    "        # Random solver                                                  #\n",
    "        ##################################################################\n",
    "        num_sat = random_solver(n, formula)\n",
    "        writer.add_scalar('random', num_sat, global_step, new_style=True)\n",
    "\n",
    "\n",
    "        ##################################################################\n",
    "        # Learning model with 1-sampled basleine                         #\n",
    "        ##################################################################\n",
    "        baseline = BaselineRollout(1)\n",
    "        num_sat, _,_ = run_model_zstate(formula, baseline)\n",
    "        writer.add_scalar('learned_gb_zstate', num_sat, global_step, new_style=True)\n",
    "\n",
    "        ##################################################################\n",
    "        # Learning model with 2-sampled basleine                         #\n",
    "        ##################################################################\n",
    "        baseline = BaselineRollout(2)\n",
    "        num_sat, _,_ = run_model_tstate(formula, baseline)\n",
    "        writer.add_scalar('learning_gb_tstate', num_sat, global_step, new_style=True)\n",
    "\n",
    "        global_step +=1\n",
    "    \n",
    "    writer.close()"
   ]
  },
  {
   "cell_type": "code",
   "execution_count": 10,
   "metadata": {},
   "outputs": [
    {
     "data": {
      "text/html": [
       "<div>\n",
       "<style scoped>\n",
       "    .dataframe tbody tr th:only-of-type {\n",
       "        vertical-align: middle;\n",
       "    }\n",
       "\n",
       "    .dataframe tbody tr th {\n",
       "        vertical-align: top;\n",
       "    }\n",
       "\n",
       "    .dataframe thead th {\n",
       "        text-align: right;\n",
       "    }\n",
       "</style>\n",
       "<table border=\"1\" class=\"dataframe\">\n",
       "  <thead>\n",
       "    <tr style=\"text-align: right;\">\n",
       "      <th></th>\n",
       "      <th>run</th>\n",
       "      <th>tag</th>\n",
       "      <th>step</th>\n",
       "      <th>value</th>\n",
       "    </tr>\n",
       "  </thead>\n",
       "  <tbody>\n",
       "    <tr>\n",
       "      <th>0</th>\n",
       "      <td>4.0</td>\n",
       "      <td>learned_gb_zstate</td>\n",
       "      <td>0</td>\n",
       "      <td>71.0</td>\n",
       "    </tr>\n",
       "    <tr>\n",
       "      <th>1</th>\n",
       "      <td>4.0</td>\n",
       "      <td>learned_gb_zstate</td>\n",
       "      <td>1</td>\n",
       "      <td>73.0</td>\n",
       "    </tr>\n",
       "    <tr>\n",
       "      <th>2</th>\n",
       "      <td>4.0</td>\n",
       "      <td>learned_gb_zstate</td>\n",
       "      <td>2</td>\n",
       "      <td>78.0</td>\n",
       "    </tr>\n",
       "    <tr>\n",
       "      <th>3</th>\n",
       "      <td>4.0</td>\n",
       "      <td>learned_gb_zstate</td>\n",
       "      <td>3</td>\n",
       "      <td>73.0</td>\n",
       "    </tr>\n",
       "    <tr>\n",
       "      <th>4</th>\n",
       "      <td>4.0</td>\n",
       "      <td>learned_gb_zstate</td>\n",
       "      <td>4</td>\n",
       "      <td>70.0</td>\n",
       "    </tr>\n",
       "    <tr>\n",
       "      <th>...</th>\n",
       "      <td>...</td>\n",
       "      <td>...</td>\n",
       "      <td>...</td>\n",
       "      <td>...</td>\n",
       "    </tr>\n",
       "    <tr>\n",
       "      <th>85</th>\n",
       "      <td>4.4</td>\n",
       "      <td>random</td>\n",
       "      <td>25</td>\n",
       "      <td>77.0</td>\n",
       "    </tr>\n",
       "    <tr>\n",
       "      <th>86</th>\n",
       "      <td>4.4</td>\n",
       "      <td>random</td>\n",
       "      <td>26</td>\n",
       "      <td>82.0</td>\n",
       "    </tr>\n",
       "    <tr>\n",
       "      <th>87</th>\n",
       "      <td>4.4</td>\n",
       "      <td>random</td>\n",
       "      <td>27</td>\n",
       "      <td>77.0</td>\n",
       "    </tr>\n",
       "    <tr>\n",
       "      <th>88</th>\n",
       "      <td>4.4</td>\n",
       "      <td>random</td>\n",
       "      <td>28</td>\n",
       "      <td>78.0</td>\n",
       "    </tr>\n",
       "    <tr>\n",
       "      <th>89</th>\n",
       "      <td>4.4</td>\n",
       "      <td>random</td>\n",
       "      <td>29</td>\n",
       "      <td>71.0</td>\n",
       "    </tr>\n",
       "  </tbody>\n",
       "</table>\n",
       "<p>90 rows × 4 columns</p>\n",
       "</div>"
      ],
      "text/plain": [
       "    run                tag  step  value\n",
       "0   4.0  learned_gb_zstate     0   71.0\n",
       "1   4.0  learned_gb_zstate     1   73.0\n",
       "2   4.0  learned_gb_zstate     2   78.0\n",
       "3   4.0  learned_gb_zstate     3   73.0\n",
       "4   4.0  learned_gb_zstate     4   70.0\n",
       "..  ...                ...   ...    ...\n",
       "85  4.4             random    25   77.0\n",
       "86  4.4             random    26   82.0\n",
       "87  4.4             random    27   77.0\n",
       "88  4.4             random    28   78.0\n",
       "89  4.4             random    29   71.0\n",
       "\n",
       "[90 rows x 4 columns]"
      ]
     },
     "execution_count": 10,
     "metadata": {},
     "output_type": "execute_result"
    }
   ],
   "source": [
    "#Upload log_dir\n",
    "#tensorboard dev upload --logdir 'outputs/exp0/runs/n20'\n",
    "\n",
    "#from tensorboard experimental to dataframe\n",
    "#https://tensorboard.dev/experiment/nGoxU6HWQMaduPCXvBpxgw/\n",
    "experiment_id = 'fJOkvqqsRa6mqqoK5XBRpg'\n",
    "experiment = tb.data.experimental.ExperimentFromDev(experiment_id)\n",
    "df = experiment.get_scalars()\n",
    "df"
   ]
  },
  {
   "cell_type": "code",
   "execution_count": 11,
   "metadata": {},
   "outputs": [
    {
     "data": {
      "text/html": [
       "<div>\n",
       "<style scoped>\n",
       "    .dataframe tbody tr th:only-of-type {\n",
       "        vertical-align: middle;\n",
       "    }\n",
       "\n",
       "    .dataframe tbody tr th {\n",
       "        vertical-align: top;\n",
       "    }\n",
       "\n",
       "    .dataframe thead th {\n",
       "        text-align: right;\n",
       "    }\n",
       "</style>\n",
       "<table border=\"1\" class=\"dataframe\">\n",
       "  <thead>\n",
       "    <tr style=\"text-align: right;\">\n",
       "      <th></th>\n",
       "      <th>run</th>\n",
       "      <th>tag</th>\n",
       "      <th>step</th>\n",
       "      <th>value</th>\n",
       "    </tr>\n",
       "  </thead>\n",
       "  <tbody>\n",
       "    <tr>\n",
       "      <th>0</th>\n",
       "      <td>4.0</td>\n",
       "      <td>learned_gb_zstate</td>\n",
       "      <td>0</td>\n",
       "      <td>71.0</td>\n",
       "    </tr>\n",
       "    <tr>\n",
       "      <th>1</th>\n",
       "      <td>4.0</td>\n",
       "      <td>learned_gb_zstate</td>\n",
       "      <td>1</td>\n",
       "      <td>73.0</td>\n",
       "    </tr>\n",
       "    <tr>\n",
       "      <th>2</th>\n",
       "      <td>4.0</td>\n",
       "      <td>learned_gb_zstate</td>\n",
       "      <td>2</td>\n",
       "      <td>78.0</td>\n",
       "    </tr>\n",
       "    <tr>\n",
       "      <th>3</th>\n",
       "      <td>4.0</td>\n",
       "      <td>learned_gb_zstate</td>\n",
       "      <td>3</td>\n",
       "      <td>73.0</td>\n",
       "    </tr>\n",
       "    <tr>\n",
       "      <th>4</th>\n",
       "      <td>4.0</td>\n",
       "      <td>learned_gb_zstate</td>\n",
       "      <td>4</td>\n",
       "      <td>70.0</td>\n",
       "    </tr>\n",
       "    <tr>\n",
       "      <th>...</th>\n",
       "      <td>...</td>\n",
       "      <td>...</td>\n",
       "      <td>...</td>\n",
       "      <td>...</td>\n",
       "    </tr>\n",
       "    <tr>\n",
       "      <th>85</th>\n",
       "      <td>4.4</td>\n",
       "      <td>random</td>\n",
       "      <td>25</td>\n",
       "      <td>77.0</td>\n",
       "    </tr>\n",
       "    <tr>\n",
       "      <th>86</th>\n",
       "      <td>4.4</td>\n",
       "      <td>random</td>\n",
       "      <td>26</td>\n",
       "      <td>82.0</td>\n",
       "    </tr>\n",
       "    <tr>\n",
       "      <th>87</th>\n",
       "      <td>4.4</td>\n",
       "      <td>random</td>\n",
       "      <td>27</td>\n",
       "      <td>77.0</td>\n",
       "    </tr>\n",
       "    <tr>\n",
       "      <th>88</th>\n",
       "      <td>4.4</td>\n",
       "      <td>random</td>\n",
       "      <td>28</td>\n",
       "      <td>78.0</td>\n",
       "    </tr>\n",
       "    <tr>\n",
       "      <th>89</th>\n",
       "      <td>4.4</td>\n",
       "      <td>random</td>\n",
       "      <td>29</td>\n",
       "      <td>71.0</td>\n",
       "    </tr>\n",
       "  </tbody>\n",
       "</table>\n",
       "<p>90 rows × 4 columns</p>\n",
       "</div>"
      ],
      "text/plain": [
       "    run                tag  step  value\n",
       "0   4.0  learned_gb_zstate     0   71.0\n",
       "1   4.0  learned_gb_zstate     1   73.0\n",
       "2   4.0  learned_gb_zstate     2   78.0\n",
       "3   4.0  learned_gb_zstate     3   73.0\n",
       "4   4.0  learned_gb_zstate     4   70.0\n",
       "..  ...                ...   ...    ...\n",
       "85  4.4             random    25   77.0\n",
       "86  4.4             random    26   82.0\n",
       "87  4.4             random    27   77.0\n",
       "88  4.4             random    28   78.0\n",
       "89  4.4             random    29   71.0\n",
       "\n",
       "[90 rows x 4 columns]"
      ]
     },
     "execution_count": 11,
     "metadata": {},
     "output_type": "execute_result"
    }
   ],
   "source": [
    "#Save dataframe as csv\n",
    "csv_path = 'csv/sip_exp10.csv'\n",
    "df.to_csv(csv_path, index=False)\n",
    "\n",
    "df = pd.read_csv(csv_path)\n",
    "df"
   ]
  },
  {
   "cell_type": "code",
   "execution_count": 12,
   "metadata": {},
   "outputs": [
    {
     "data": {
      "text/plain": [
       "Text(0.5, 1.0, 'Ratio of satisfied clauses')"
      ]
     },
     "execution_count": 12,
     "metadata": {},
     "output_type": "execute_result"
    },
    {
     "data": {
      "image/png": "[encoded data removed]",
      "text/plain": [
       "<Figure size 1152x720 with 1 Axes>"
      ]
     },
     "metadata": {
      "needs_background": "light"
     },
     "output_type": "display_data"
    }
   ],
   "source": [
    "df2 = df.rename(columns = {'run': 'radius'}, inplace = False)\n",
    "\n",
    "df2['ratio'] = df2['value'] * 1/(df2['radius'].astype(float) * num_variables)\n",
    "\n",
    "plt.figure(figsize=(16, 10))\n",
    "sns.lineplot(x='radius', y='ratio', hue='tag', ci=20, data=df2, estimator='mean').set_title(\"Ratio of satisfied clauses\")"
   ]
  }
 ],
 "metadata": {
  "interpreter": {
   "hash": "2def132e6ff2d4a8f828400b7561c2d8eeec08ca69bfb84d2ccf8d1757b29253"
  },
  "kernelspec": {
   "display_name": "Python 3.7.2 ('torch_env')",
   "language": "python",
   "name": "python3"
  },
  "language_info": {
   "codemirror_mode": {
    "name": "ipython",
    "version": 3
   },
   "file_extension": ".py",
   "mimetype": "text/x-python",
   "name": "python",
   "nbconvert_exporter": "python",
   "pygments_lexer": "ipython3",
   "version": "3.7.2"
  },
  "orig_nbformat": 4
 },
 "nbformat": 4,
 "nbformat_minor": 2
}
