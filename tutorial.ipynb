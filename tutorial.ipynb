{
 "cells": [
  {
   "cell_type": "markdown",
   "metadata": {},
   "source": [
    "# Hands On Tutorial"
   ]
  },
  {
   "cell_type": "markdown",
   "metadata": {},
   "source": [
    "## Example 1\n",
    "\n",
    "Create random sat formula via URGenerator and check if a random assignment satisfies it."
   ]
  },
  {
   "cell_type": "code",
   "execution_count": 1,
   "metadata": {},
   "outputs": [],
   "source": [
    "from src.sat_generator import URGenerator\n",
    "from src.solvers import random_solver\n",
    "#import src.utils as utils"
   ]
  },
  {
   "cell_type": "code",
   "execution_count": 2,
   "metadata": {},
   "outputs": [],
   "source": [
    "# Create a sat generator\n",
    "sat_gen = URGenerator(min_n = 5,\n",
    "                      max_n = 5,\n",
    "                      min_k = 3,\n",
    "                      max_k = 3,\n",
    "                      min_m = 20,\n",
    "                      max_m = 20)"
   ]
  },
  {
   "cell_type": "code",
   "execution_count": 3,
   "metadata": {},
   "outputs": [
    {
     "name": "stdout",
     "output_type": "stream",
     "text": [
      "n: 5\n",
      "m: 20\n",
      "r: 4.0\n",
      "[[5, -4, -2], [-1, -3, -2], [2, 4, -5], [2, -3, 1], [4, 2, -3], [1, -2, -4], [-2, -5, -1], [1, -5, 2], [-1, -2, -3], [3, -5, -2], [2, 5, -1], [-4, 3, 1], [5, -1, 2], [-2, 1, 4], [-3, 1, -5], [1, -2, 5], [3, 1, -2], [5, 4, 2], [2, 4, -5], [5, 4, -2]]\n"
     ]
    }
   ],
   "source": [
    "# Create a random sat formula\n",
    "n, m, r, formula = sat_gen.generate_formula()\n",
    "\n",
    "print(f'n: {n}')\n",
    "print(f'm: {m}')\n",
    "print(f'r: {r}')\n",
    "print(formula)"
   ]
  },
  {
   "cell_type": "code",
   "execution_count": 4,
   "metadata": {},
   "outputs": [
    {
     "name": "stdout",
     "output_type": "stream",
     "text": [
      "assignment: [1 0 1 1 0]\n",
      "num of sat clauses: 18 out of 20\n"
     ]
    }
   ],
   "source": [
    "# Create a random assignment\n",
    "\n",
    "#assignment = utils.random_assignment(n=n)\n",
    "# Verifying whether the assinment satisfied the formula\n",
    "#is_sat, num_sat, eval_formula = utils.assignment_verifier(formula, assignment)\n",
    "\n",
    "assignment, num_sat = random_solver(n, formula)\n",
    "print(f'assignment: {assignment}')\n",
    "print(f'num of sat clauses: {num_sat} out of {m}')"
   ]
  },
  {
   "cell_type": "markdown",
   "metadata": {},
   "source": [
    "## Example 2\n",
    "\n",
    "Create a pair of random formulas via SRGenerator and use minisat_solver to check whether the formulas are sat or unsat."
   ]
  },
  {
   "cell_type": "code",
   "execution_count": 5,
   "metadata": {},
   "outputs": [],
   "source": [
    "from src.sat_generator import SRGenerator\n",
    "from src.solvers import minisat_solver\n",
    "#import PyMiniSolvers.minisolvers as minisolvers"
   ]
  },
  {
   "cell_type": "code",
   "execution_count": 6,
   "metadata": {},
   "outputs": [],
   "source": [
    "# Create a sat generator\n",
    "sat_gen = SRGenerator(n = 20, \n",
    "                      p_bernoulli = 0.7,\n",
    "                      p_geometric = 0.4)"
   ]
  },
  {
   "cell_type": "code",
   "execution_count": 7,
   "metadata": {},
   "outputs": [
    {
     "name": "stdout",
     "output_type": "stream",
     "text": [
      "n: 20\n",
      "m: 136\n",
      "r: 6.8\n"
     ]
    }
   ],
   "source": [
    "# Create a random sat formula\n",
    "n, m, r, [formula_unsat, formula_sat] = sat_gen.generate_formula()\n",
    "\n",
    "print(f'n: {n}')\n",
    "print(f'm: {m}')\n",
    "print(f'r: {r}')"
   ]
  },
  {
   "cell_type": "code",
   "execution_count": 8,
   "metadata": {},
   "outputs": [
    {
     "name": "stdout",
     "output_type": "stream",
     "text": [
      "[[-10, 12, -9, -2], [7, 5, 4, 12, 16], [-7, -18, -10, 17, 1, -8, 16, -6, -12], [-17, 20, -18, 1, 6, 8], [-11, -9, 20, -19, 16, 13], [4, -7, -16, 8, -5, -20, -14, -10, 18], [-4, -14, -15], [-18, 13, -15, -5, -19, 8, -16], [-8, -10], [1, -6, 7, 2, 16, 17, 13, -11, -10, 8], [4, 1, -6], [-17, 12, -8, 5, 9], [-17, 14, -19], [-12, -6], [16, -13, -19], [6, -16, 14], [17, -18], [-1, -13, -3], [16, -8, 17, -14, 5], [-6, 19], [-20, -15, 8, 5, 7], [18, 9, -5, -6], [9, -16, -12, -17, 3], [-17, -6, -10, 8, 19], [1, -5, 3, 13, 20, 8], [14, -16, 15, 3], [-16, 20, 18], [14, -15, -4], [-20, -1, 17], [-18, -16, -15], [-3, 19], [-19, -6, 8], [-2, 4], [-3, 1, 14, 20, 5, -19], [-16, -4, -8, -18], [4, -6, -18], [16, 7, 1], [-6, 13, 19], [-4, -2, -8, 16, -12, 17], [-14, -15, 1, -12, 20], [-14, 10, -2, 13, -5, -6, -11, -7, 8], [10, 11], [-13, 8, -19, -9], [20, 9, 18], [-14, -17, -6], [-15, -14], [-3, 16, -19, 8, -11, -1], [1, -8, -14, -4], [14, -16, -5, 18], [12, 1, 10, 14], [10, 19, 5, -13], [-20, -4, 9, -1, 5, 18], [4, 5, -9, -14, -3], [11, -20, 17, 15, -5, 19, -2, 18, 12], [-3, 2, 9, -20, -15, -6, 13, -18], [-13, -4, -16], [-6, -10, -16, 5], [20, -11, -19, 2], [-12, 7, -15, -1], [19, 7, 4, 9], [1, 2, -9, 17, -7], [-2, -1], [-17, 19, 1], [1, -20, -14, 13], [15, 10, -7], [-2, 6, -1, 8, 3], [-15, -5, -7, -13, -12, 1, -2, -19, 6], [14, -19], [10, -5, -12, 1], [-12, -14, 20], [-5, 8, -1, 16, -7, 12], [-9, -14, -5, -8, -17, -4], [7, -14, -17], [14, -11, -12, -20], [9, 8, 1, -15, 11, 13, 16], [-3, -4, -6, 8], [2, -11, -20, -9, -8, -17, -4], [6, -1, 18, -10, -5, -3], [-12, 18, -11, 16, 10], [-19, 10, 5], [12, -16, 13], [14, 6, 4], [13, -12, 18, -3, -1], [-17, 16, 15, 19, 12, -1], [-9, 4], [-20, -8, 15, -3], [14, 1, -11, 5], [-14, -15, 11, -8], [-6, 18, -5], [4, -11, 14, -1, -3, 9], [3, -12, 9, 16], [13, 6, -1], [-9, -14, 13, 8], [10, -20, 5, 16], [-3, -8], [-9, 2, -3, 10, 11], [1, -10, -11], [6, 15, 5], [9, -11, 8, -3], [-1, -8, 10, 14, 15], [14, 19, 20], [-8, -20, 16, -4], [12, 19, 1], [19, 9, -11], [-15, 10, 14, -3], [-1, -15, -16, 10], [8, -16, -19], [-13, -12, 16, 4], [-7, -8, -9], [18, -8], [13, -16, -1, -9, -18, -4, 6], [5, 14, -6], [5, -9, -6], [-17, -16, -13, -5, 18, -20, -9], [1, 16, -19], [4, -9, 15], [-12, 14, 15, -6, 19, -5, 10], [2, -1, 14, 20], [-20, -16, -2, 11, 14, -12], [15, -11, 3], [-13, 3, -5], [-9, -8, -15, 7, -17, -3], [-8, 10, -9, -7, 20], [8, -6], [8, -9, -19, 7, 6, 1, 15, -10, -14, -2], [-18, 3, -6, -13], [15, -20, -1], [18, 12, -20], [-4, -12, 19, 20], [-8, 10, 15], [12, -19, -13, -8, -6], [20, -3, 18], [1, 13, -3], [10, 3, -12, -9, 4], [12, 17, -10, 14, -18, 8, -20, -2, 11], [11, 14, 12, 18]]\n"
     ]
    }
   ],
   "source": [
    "print(formula_sat)"
   ]
  },
  {
   "cell_type": "code",
   "execution_count": 9,
   "metadata": {},
   "outputs": [
    {
     "name": "stdout",
     "output_type": "stream",
     "text": [
      "assignment: [0, 1, 0, 1, 1, 0, 1, 0, 1, 1, 0, 1, 0, 0, 0, 0, 0, 0, 0, 1]\n",
      "is_sat: True\n"
     ]
    }
   ],
   "source": [
    "# Using minisat_solver to check satifiability\n",
    "\n",
    "#solver = minisolvers.MinisatSolver()\n",
    "#for i in range(n):\n",
    "#    solver.new_var()\n",
    "#for clause in formula_sat:\n",
    "#    solver.add_clause(clause)\n",
    "#print(solver.solve())\n",
    "\n",
    "assignment, is_sat = minisat_solver(n, formula_sat)\n",
    "print(f'assignment: {assignment}') # None means there is no assigment that satisfies the formula.\n",
    "print(f'is_sat: {is_sat}')"
   ]
  },
  {
   "cell_type": "code",
   "execution_count": 10,
   "metadata": {},
   "outputs": [
    {
     "name": "stdout",
     "output_type": "stream",
     "text": [
      "[[-10, 12, -9, -2], [7, 5, 4, 12, 16], [-7, -18, -10, 17, 1, -8, 16, -6, -12], [-17, 20, -18, 1, 6, 8], [-11, -9, 20, -19, 16, 13], [4, -7, -16, 8, -5, -20, -14, -10, 18], [-4, -14, -15], [-18, 13, -15, -5, -19, 8, -16], [-8, -10], [1, -6, 7, 2, 16, 17, 13, -11, -10, 8], [4, 1, -6], [-17, 12, -8, 5, 9], [-17, 14, -19], [-12, -6], [16, -13, -19], [6, -16, 14], [17, -18], [-1, -13, -3], [16, -8, 17, -14, 5], [-6, 19], [-20, -15, 8, 5, 7], [18, 9, -5, -6], [9, -16, -12, -17, 3], [-17, -6, -10, 8, 19], [1, -5, 3, 13, 20, 8], [14, -16, 15, 3], [-16, 20, 18], [14, -15, -4], [-20, -1, 17], [-18, -16, -15], [-3, 19], [-19, -6, 8], [-2, 4], [-3, 1, 14, 20, 5, -19], [-16, -4, -8, -18], [4, -6, -18], [16, 7, 1], [-6, 13, 19], [-4, -2, -8, 16, -12, 17], [-14, -15, 1, -12, 20], [-14, 10, -2, 13, -5, -6, -11, -7, 8], [10, 11], [-13, 8, -19, -9], [20, 9, 18], [-14, -17, -6], [-15, -14], [-3, 16, -19, 8, -11, -1], [1, -8, -14, -4], [14, -16, -5, 18], [12, 1, 10, 14], [10, 19, 5, -13], [-20, -4, 9, -1, 5, 18], [4, 5, -9, -14, -3], [11, -20, 17, 15, -5, 19, -2, 18, 12], [-3, 2, 9, -20, -15, -6, 13, -18], [-13, -4, -16], [-6, -10, -16, 5], [20, -11, -19, 2], [-12, 7, -15, -1], [19, 7, 4, 9], [1, 2, -9, 17, -7], [-2, -1], [-17, 19, 1], [1, -20, -14, 13], [15, 10, -7], [-2, 6, -1, 8, 3], [-15, -5, -7, -13, -12, 1, -2, -19, 6], [14, -19], [10, -5, -12, 1], [-12, -14, 20], [-5, 8, -1, 16, -7, 12], [-9, -14, -5, -8, -17, -4], [7, -14, -17], [14, -11, -12, -20], [9, 8, 1, -15, 11, 13, 16], [-3, -4, -6, 8], [2, -11, -20, -9, -8, -17, -4], [6, -1, 18, -10, -5, -3], [-12, 18, -11, 16, 10], [-19, 10, 5], [12, -16, 13], [14, 6, 4], [13, -12, 18, -3, -1], [-17, 16, 15, 19, 12, -1], [-9, 4], [-20, -8, 15, -3], [14, 1, -11, 5], [-14, -15, 11, -8], [-6, 18, -5], [4, -11, 14, -1, -3, 9], [3, -12, 9, 16], [13, 6, -1], [-9, -14, 13, 8], [10, -20, 5, 16], [-3, -8], [-9, 2, -3, 10, 11], [1, -10, -11], [6, 15, 5], [9, -11, 8, -3], [-1, -8, 10, 14, 15], [14, 19, 20], [-8, -20, 16, -4], [12, 19, 1], [19, 9, -11], [-15, 10, 14, -3], [-1, -15, -16, 10], [8, -16, -19], [-13, -12, 16, 4], [-7, -8, -9], [18, -8], [13, -16, -1, -9, -18, -4, 6], [5, 14, -6], [5, -9, -6], [-17, -16, -13, -5, 18, -20, -9], [1, 16, -19], [4, -9, 15], [-12, 14, 15, -6, 19, -5, 10], [2, -1, 14, 20], [-20, -16, -2, 11, 14, -12], [15, -11, 3], [-13, 3, -5], [-9, -8, -15, 7, -17, -3], [-8, 10, -9, -7, 20], [8, -6], [8, -9, -19, 7, 6, 1, 15, -10, -14, -2], [-18, 3, -6, -13], [15, -20, -1], [18, 12, -20], [-4, -12, 19, 20], [-8, 10, 15], [12, -19, -13, -8, -6], [20, -3, 18], [1, 13, -3], [10, 3, -12, -9, 4], [12, 17, -10, 14, -18, 8, -20, -2, 11], [11, 14, -12, 18]]\n"
     ]
    }
   ],
   "source": [
    "print(formula_unsat)"
   ]
  },
  {
   "cell_type": "code",
   "execution_count": 11,
   "metadata": {},
   "outputs": [
    {
     "name": "stdout",
     "output_type": "stream",
     "text": [
      "assignment: None\n",
      "is_sat: False\n"
     ]
    }
   ],
   "source": [
    "# Using minisat_solver to check satifiability\n",
    "\n",
    "#solver = minisolvers.MinisatSolver()\n",
    "#for i in range(n):\n",
    "#    solver.new_var()\n",
    "#for clause in formula_sat:\n",
    "#    solver.add_clause(clause)\n",
    "#print(solver.solve())\n",
    "\n",
    "assignment, is_sat = minisat_solver(n, formula_unsat)\n",
    "print(f'assignment: {assignment}') # None means there is no assigment that satisfies the formula.\n",
    "print(f'is_sat: {is_sat}')"
   ]
  },
  {
   "cell_type": "markdown",
   "metadata": {},
   "source": [
    "## Example 3\n",
    "\n",
    "Load a uf20-91 instance from the SATLIB dataset and check if a random assignment satisfies the formula.\n",
    "\n",
    "For this example we download the uf20-91 folder from https://www.cs.ubc.ca/~hoos/SATLIB/benchm.html and save it in the 'data' folder."
   ]
  },
  {
   "cell_type": "code",
   "execution_count": 12,
   "metadata": {},
   "outputs": [],
   "source": [
    "from src.solvers import random_solver\n",
    "import src.utils as utils"
   ]
  },
  {
   "cell_type": "code",
   "execution_count": 13,
   "metadata": {},
   "outputs": [
    {
     "name": "stdout",
     "output_type": "stream",
     "text": [
      "n: 20\n",
      "m: 91\n",
      "r: 4.55\n",
      "\n",
      "[[4, -18, 19], [3, 18, -5], [-5, -8, -15], [-20, 7, -16], [10, -13, -7], [-12, -9, 17], [17, 19, 5], [-16, 9, 15], [11, -5, -14], [18, -10, 13], [-3, 11, 12], [-6, -17, -8], [-18, 14, 1], [-19, -15, 10], [12, 18, -19], [-8, 4, 7], [-8, -9, 4], [7, 17, -15], [12, -7, -14], [-10, -11, 8], [2, -15, -11], [9, 6, 1], [-11, 20, -17], [9, -15, 13], [12, -7, -17], [-18, -2, 20], [20, 12, 4], [19, 11, 14], [-16, 18, -4], [-1, -17, -19], [-13, 15, 10], [-12, -14, -13], [12, -14, -7], [-7, 16, 10], [6, 10, 7], [20, 14, -16], [-19, 17, 11], [-7, 1, -20], [-5, 12, 15], [-4, -9, -13], [12, -11, -7], [-5, 19, -8], [1, 16, 17], [20, -14, -15], [13, -4, 10], [14, 7, 10], [-5, 9, 20], [10, 1, -19], [-16, -15, -1], [16, 3, -11], [-15, -10, 4], [4, -15, -3], [-10, -16, 11], [-8, 12, -5], [14, -6, 12], [1, 6, 11], [-13, -5, -1], [-7, -2, 12], [1, -20, 19], [-2, -13, -8], [15, 18, 4], [-11, 14, 9], [-6, -15, -2], [5, -12, -15], [-6, 17, 5], [-13, 5, -19], [20, -1, 14], [9, -17, 15], [-5, 19, -18], [-12, 8, -10], [-18, 14, -4], [15, -9, 13], [9, -5, -1], [10, -19, -14], [20, 9, 4], [-9, -2, 19], [-5, 13, -17], [2, -10, -18], [-18, 3, 11], [7, -9, 17], [-15, -6, -3], [-2, 3, -13], [12, 3, -2], [-2, -3, 17], [20, -15, -16], [-5, -17, -19], [-20, -18, 11], [-9, 1, -5], [-19, 9, 17], [12, -2, 17], [4, -16, -5]]\n"
     ]
    }
   ],
   "source": [
    "# Load the formula in dimacs format and convert to list \n",
    "dimacs_path =  'data/uf20-91/uf20-01.cnf'\n",
    "n, m, formula = utils.dimacs2list(dimacs_path = dimacs_path)\n",
    "\n",
    "print(f'n: {n}')\n",
    "print(f'm: {m}')\n",
    "print(f'r: {m/n}')\n",
    "print()\n",
    "print(formula)"
   ]
  },
  {
   "cell_type": "code",
   "execution_count": 14,
   "metadata": {},
   "outputs": [
    {
     "name": "stdout",
     "output_type": "stream",
     "text": [
      "assignment: [0 0 1 1 0 1 1 1 1 1 0 0 0 1 1 1 1 0 0 1]\n",
      "num of sat clauses: 80 out of 91\n"
     ]
    }
   ],
   "source": [
    "# Create a random assignment\n",
    "\n",
    "#assignment = utils.random_assignment(n=n)\n",
    "# Verifying whether the assignment satisfied the formula\n",
    "#is_sat, num_sat, eval_formula = utils.assignment_verifier(formula, assignment)\n",
    "\n",
    "assignment, num_sat = random_solver(n, formula)\n",
    "print(f'assignment: {assignment}')\n",
    "print(f'num of sat clauses: {num_sat} out of {m}')"
   ]
  }
 ],
 "metadata": {
  "interpreter": {
   "hash": "2def132e6ff2d4a8f828400b7561c2d8eeec08ca69bfb84d2ccf8d1757b29253"
  },
  "kernelspec": {
   "display_name": "Python 3.7.0 64-bit ('torch_env': conda)",
   "name": "python3"
  },
  "language_info": {
   "codemirror_mode": {
    "name": "ipython",
    "version": 3
   },
   "file_extension": ".py",
   "mimetype": "text/x-python",
   "name": "python",
   "nbconvert_exporter": "python",
   "pygments_lexer": "ipython3",
   "version": "3.7.2"
  },
  "orig_nbformat": 4
 },
 "nbformat": 4,
 "nbformat_minor": 2
}
