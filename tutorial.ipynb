{
 "cells": [
  {
   "cell_type": "markdown",
   "metadata": {},
   "source": [
    "# Hands On Tutorial"
   ]
  },
  {
   "cell_type": "markdown",
   "metadata": {},
   "source": [
    "## Example 1\n",
    "\n",
    "Create random sat formula via UniformGenerator and check if a random assignment satisfies it. "
   ]
  },
  {
   "cell_type": "code",
   "execution_count": 1,
   "metadata": {},
   "outputs": [],
   "source": [
    "from src.sat_generator import URGenerator\n",
    "from src.run_solvers import random_solver\n",
    "#import src.utils as utils\n"
   ]
  },
  {
   "cell_type": "code",
   "execution_count": 2,
   "metadata": {},
   "outputs": [],
   "source": [
    "# Create a sat generator\n",
    "sat_gen = URGenerator(min_n = 5,\n",
    "                      max_n = 5,\n",
    "                      min_k = 3,\n",
    "                      max_k = 3,\n",
    "                      min_m = 20,\n",
    "                      max_m = 20)"
   ]
  },
  {
   "cell_type": "code",
   "execution_count": 3,
   "metadata": {},
   "outputs": [
    {
     "name": "stdout",
     "output_type": "stream",
     "text": [
      "n: 5\n",
      "m: 20\n",
      "r: 4.0\n",
      "[[3, 4, -1], [-2, -5, 3], [-3, -1, -2], [-3, -5, 2], [-1, -2, 5], [-2, 5, -1], [-3, 1, -4], [-1, -3, 2], [-5, -2, -3], [3, -4, 1], [-1, 5, 3], [-4, -2, -3], [2, 4, 1], [1, 2, -4], [-1, 3, -2], [5, 2, -3], [-1, 4, -3], [4, 5, -3], [4, 3, -1], [-5, 4, 1]]\n"
     ]
    }
   ],
   "source": [
    "# Create a random sat formula\n",
    "n, m, r, formula = sat_gen.generate_formula()\n",
    "\n",
    "print(f'n: {n}')\n",
    "print(f'm: {m}')\n",
    "print(f'r: {r}')\n",
    "print(formula)"
   ]
  },
  {
   "cell_type": "code",
   "execution_count": 4,
   "metadata": {},
   "outputs": [
    {
     "name": "stdout",
     "output_type": "stream",
     "text": [
      "assignment: [0 1 0 0 1]\n",
      "num of sat clauses: 18 out of 20\n"
     ]
    }
   ],
   "source": [
    "# Create a random assignment\n",
    "#assignment = utils.random_assignment(n=n)\n",
    "# Verifying whether the assinment satisfied the formula\n",
    "#is_sat, num_sat, eval_formula = utils.assignment_verifier(formula, assignment)\n",
    "\n",
    "assignment, num_sat = random_solver(n, formula)\n",
    "print(f'assignment: {assignment}')\n",
    "print(f'num of sat clauses: {num_sat} out of {m}')"
   ]
  },
  {
   "cell_type": "markdown",
   "metadata": {},
   "source": [
    "## Example 2\n",
    "\n",
    "Create pair of random formulas via SRGenerator and use minisat_solver to check if the formula is sat or unsat."
   ]
  },
  {
   "cell_type": "code",
   "execution_count": 5,
   "metadata": {},
   "outputs": [],
   "source": [
    "from src.sat_generator import SRGenerator\n",
    "from src.run_solvers import minisat_solver\n",
    "#import PyMiniSolvers.minisolvers as minisolvers"
   ]
  },
  {
   "cell_type": "code",
   "execution_count": 6,
   "metadata": {},
   "outputs": [],
   "source": [
    "# Create a sat generator\n",
    "sat_gen = SRGenerator(n = 20, \n",
    "                      p_bernoulli = 0.7,\n",
    "                      p_geometric = 0.4)"
   ]
  },
  {
   "cell_type": "code",
   "execution_count": 7,
   "metadata": {},
   "outputs": [
    {
     "name": "stdout",
     "output_type": "stream",
     "text": [
      "n: 20\n",
      "m: 130\n",
      "r: 6.5\n"
     ]
    }
   ],
   "source": [
    "# Create a random sat formula\n",
    "n, m, r, [formula_unsat, formula_sat] = sat_gen.generate_formula()\n",
    "\n",
    "print(f'n: {n}')\n",
    "print(f'm: {m}')\n",
    "print(f'r: {r}')"
   ]
  },
  {
   "cell_type": "code",
   "execution_count": 8,
   "metadata": {},
   "outputs": [
    {
     "name": "stdout",
     "output_type": "stream",
     "text": [
      "[[-11, -3, -6, 1, -16, -10, -17, 2], [6, 13, -5], [-5, 10, -16], [-20, -16, 12], [9, -17, -16, 5], [1, 11, -9], [-15, 3, 1, -6, -2], [-15, -4, 13, 5, -3, -16, -9], [-20, 19, -13], [-19, -6, -10, 2, -1, -12], [-7, -16, 2, 12, 1, 8], [17, -20, 9], [-19, -6, 17], [17, -13], [10, -15], [-20, -11], [8, -4, -7], [11, 10, -17], [17, 4, 11], [-16, -14, -11, 4, -9, 7, -19], [17, -16, -12, -20, -3], [5, 11, -20, -18], [15, 2, 13], [6, -15, -20], [-2, -10, 5], [10, -15, 8, 14], [14, -11, -5, 4, 19, 9], [-1, 8, -3, -17, 13, 20, 10, -15, -19, -18, -9], [-8, 2, -6], [-14, 9, 4], [18, -16, 6, 8, -13], [6, 2], [-5, -19, -3], [16, -15, 14, -18, -1, 2, -9, 17, 19], [13, 1, 16, -17, 3, 20, -2, 7, 5, -9], [-11, 14, 12], [9, 15, -5, -18, 12, 17, -13], [-10, 11, -4, 7], [17, -4, 11, -10, 12, -13, -3], [-4, -13, -2, -14, 19], [18, -5, 2], [5, 19, 6], [5, 15, 10], [-4, -1, -17, 13, 3], [-17, -20, -4], [2, 1], [12, 17, -8, -2, 1], [-2, 18, 12, -19, -8], [5, 16, 19, 4], [6, 19, 12], [16, 10, 9, 8, 11, -17, -12, 1, 5, 14, -19, -13, 6], [-3, -6, -2, -4, -1, 5, -9], [-9, 4, 18, 15, 5, -2, -13, -3, 12, -14], [11, -15, 2], [4, -14, 11, 12], [13, -11], [-7, -10], [-7, 13, -11], [19, -15, 1], [-1, -4, 16, 3], [-8, 9, -17, 13, -3, 20, -14, -16], [-10, -2, 17, 13, 6, -5, -20, -4, 7], [-17, -3, -9, -12, -13], [12, 9, 1, 16, -6, 18, 10, 14, 15, 8, -3], [13, -16], [-11, 16], [2, -3, -4, -12], [-6, -18, -4, -9, 5], [-5, -2, -15], [9, 2, -18, -17, -13], [13, 4, -6, -10], [-17, 13, -11, 6, 18, 3], [-2, -6, -3], [-18, -4, 15, -9], [-14, -6, 19, 8, -5, 10], [11, -10], [-15, 6], [18, 6, -10], [2, 16, -14], [15, 12, -7, -2], [-18, -3, -15, -14, 7, 16], [4, -10, 12], [-19, 4, -10, -6], [5, 14, 3, 13], [-7, 3, 18, 2, 4, -20, -13, 5, -17, -10], [5, 8, 7, -18, 17], [15, 17, 18, 14, 7, -8, -6], [11, -13, 20, 1, 12], [-16, -20, -12], [11, -18, 16], [-6, -5, 7, -9], [-8, -15, 12], [3, 6, -14, 12, -1], [4, 7, -20], [-4, 8, 10, 13, 11, 12, 3, -17], [15, 1, -10, -2, 7], [-10, 7, 15, -18, -20, 13, -17, -8], [19, 15, -12], [11, 3, -17], [18, 20, -19], [4, 9, 14, 7, -10], [-14, 3, -5], [-17, -8, 4], [11, -3, 6], [-2, 6, 4, -8, -1, 10], [-9, 3], [-11, -19, 2, 6, 9, -4, -13, -16], [-11, 3, 15], [13, -8], [9, -7, 2], [-5, -19, 2], [15, -8, 3], [-9, -15, -4], [2, -7], [14, -2, 1, -18], [12, -10, 4], [10, -17, -18], [-9, 13, -1], [16, -20, 4, -18, -10, 7, -5], [15, -9, 11], [-4, -19, -8, 10], [6, -12, 7], [-12, 13, -8], [14, 8, 12, 20, -15], [-2, 8], [-3, -10, -18], [13, 19, -2], [19, -7, 2], [-20, 7, -1, 2, -10], [12, -20, 19]]\n"
     ]
    }
   ],
   "source": [
    "print(formula_sat)"
   ]
  },
  {
   "cell_type": "code",
   "execution_count": 9,
   "metadata": {},
   "outputs": [
    {
     "name": "stdout",
     "output_type": "stream",
     "text": [
      "assignment: [1, 0, 1, 1, 0, 1, 0, 0, 1, 1, 1, 0, 1, 1, 0, 1, 1, 0, 0, 0]\n",
      "is_sat: True\n"
     ]
    }
   ],
   "source": [
    "#solver = minisolvers.MinisatSolver()\n",
    "#for i in range(n):\n",
    "#    solver.new_var()\n",
    "#for clause in formula_sat:\n",
    "#    solver.add_clause(clause)\n",
    "#print(solver.solve())\n",
    "\n",
    "assignment, is_sat = minisat_solver(n, formula_sat)\n",
    "print(f'assignment: {assignment}') # None means there is no assigment that satisfies the formula.\n",
    "print(f'is_sat: {is_sat}')"
   ]
  },
  {
   "cell_type": "code",
   "execution_count": 10,
   "metadata": {},
   "outputs": [
    {
     "name": "stdout",
     "output_type": "stream",
     "text": [
      "[[-11, -3, -6, 1, -16, -10, -17, 2], [6, 13, -5], [-5, 10, -16], [-20, -16, 12], [9, -17, -16, 5], [1, 11, -9], [-15, 3, 1, -6, -2], [-15, -4, 13, 5, -3, -16, -9], [-20, 19, -13], [-19, -6, -10, 2, -1, -12], [-7, -16, 2, 12, 1, 8], [17, -20, 9], [-19, -6, 17], [17, -13], [10, -15], [-20, -11], [8, -4, -7], [11, 10, -17], [17, 4, 11], [-16, -14, -11, 4, -9, 7, -19], [17, -16, -12, -20, -3], [5, 11, -20, -18], [15, 2, 13], [6, -15, -20], [-2, -10, 5], [10, -15, 8, 14], [14, -11, -5, 4, 19, 9], [-1, 8, -3, -17, 13, 20, 10, -15, -19, -18, -9], [-8, 2, -6], [-14, 9, 4], [18, -16, 6, 8, -13], [6, 2], [-5, -19, -3], [16, -15, 14, -18, -1, 2, -9, 17, 19], [13, 1, 16, -17, 3, 20, -2, 7, 5, -9], [-11, 14, 12], [9, 15, -5, -18, 12, 17, -13], [-10, 11, -4, 7], [17, -4, 11, -10, 12, -13, -3], [-4, -13, -2, -14, 19], [18, -5, 2], [5, 19, 6], [5, 15, 10], [-4, -1, -17, 13, 3], [-17, -20, -4], [2, 1], [12, 17, -8, -2, 1], [-2, 18, 12, -19, -8], [5, 16, 19, 4], [6, 19, 12], [16, 10, 9, 8, 11, -17, -12, 1, 5, 14, -19, -13, 6], [-3, -6, -2, -4, -1, 5, -9], [-9, 4, 18, 15, 5, -2, -13, -3, 12, -14], [11, -15, 2], [4, -14, 11, 12], [13, -11], [-7, -10], [-7, 13, -11], [19, -15, 1], [-1, -4, 16, 3], [-8, 9, -17, 13, -3, 20, -14, -16], [-10, -2, 17, 13, 6, -5, -20, -4, 7], [-17, -3, -9, -12, -13], [12, 9, 1, 16, -6, 18, 10, 14, 15, 8, -3], [13, -16], [-11, 16], [2, -3, -4, -12], [-6, -18, -4, -9, 5], [-5, -2, -15], [9, 2, -18, -17, -13], [13, 4, -6, -10], [-17, 13, -11, 6, 18, 3], [-2, -6, -3], [-18, -4, 15, -9], [-14, -6, 19, 8, -5, 10], [11, -10], [-15, 6], [18, 6, -10], [2, 16, -14], [15, 12, -7, -2], [-18, -3, -15, -14, 7, 16], [4, -10, 12], [-19, 4, -10, -6], [5, 14, 3, 13], [-7, 3, 18, 2, 4, -20, -13, 5, -17, -10], [5, 8, 7, -18, 17], [15, 17, 18, 14, 7, -8, -6], [11, -13, 20, 1, 12], [-16, -20, -12], [11, -18, 16], [-6, -5, 7, -9], [-8, -15, 12], [3, 6, -14, 12, -1], [4, 7, -20], [-4, 8, 10, 13, 11, 12, 3, -17], [15, 1, -10, -2, 7], [-10, 7, 15, -18, -20, 13, -17, -8], [19, 15, -12], [11, 3, -17], [18, 20, -19], [4, 9, 14, 7, -10], [-14, 3, -5], [-17, -8, 4], [11, -3, 6], [-2, 6, 4, -8, -1, 10], [-9, 3], [-11, -19, 2, 6, 9, -4, -13, -16], [-11, 3, 15], [13, -8], [9, -7, 2], [-5, -19, 2], [15, -8, 3], [-9, -15, -4], [2, -7], [14, -2, 1, -18], [12, -10, 4], [10, -17, -18], [-9, 13, -1], [16, -20, 4, -18, -10, 7, -5], [15, -9, 11], [-4, -19, -8, 10], [6, -12, 7], [-12, 13, -8], [14, 8, 12, 20, -15], [-2, 8], [-3, -10, -18], [13, 19, -2], [19, -7, 2], [-20, 7, -1, 2, -10], [12, 20, 19]]\n"
     ]
    }
   ],
   "source": [
    "print(formula_unsat)"
   ]
  },
  {
   "cell_type": "code",
   "execution_count": 11,
   "metadata": {},
   "outputs": [
    {
     "name": "stdout",
     "output_type": "stream",
     "text": [
      "assignment: None\n",
      "is_sat: False\n"
     ]
    }
   ],
   "source": [
    "#solver = minisolvers.MinisatSolver()\n",
    "#for i in range(n):\n",
    "#    solver.new_var()\n",
    "#for clause in formula_sat:\n",
    "#    solver.add_clause(clause)\n",
    "#print(solver.solve())\n",
    "\n",
    "assignment, is_sat = minisat_solver(n, formula_unsat)\n",
    "print(f'assignment: {assignment}') # None means there is no assigment that satisfies the formula.\n",
    "print(f'is_sat: {is_sat}')"
   ]
  },
  {
   "cell_type": "markdown",
   "metadata": {},
   "source": [
    "## Example 3\n",
    "\n",
    "Load a uf20-91 instance from the SATLIB dataset and check if a random assignment satisfies the formula.\n",
    "\n",
    "SATLIB: https://www.cs.ubc.ca/~hoos/SATLIB/benchm.html"
   ]
  },
  {
   "cell_type": "code",
   "execution_count": 3,
   "metadata": {},
   "outputs": [],
   "source": [
    "from src.sat_generator import URGenerator\n",
    "from src.run_solvers import random_solver\n",
    "import src.utils as utils"
   ]
  },
  {
   "cell_type": "code",
   "execution_count": 4,
   "metadata": {},
   "outputs": [
    {
     "name": "stdout",
     "output_type": "stream",
     "text": [
      "n: 20\n",
      "m: 91\n",
      "r: 4.55\n",
      "\n",
      "[[4, -18, 19], [3, 18, -5], [-5, -8, -15], [-20, 7, -16], [10, -13, -7], [-12, -9, 17], [17, 19, 5], [-16, 9, 15], [11, -5, -14], [18, -10, 13], [-3, 11, 12], [-6, -17, -8], [-18, 14, 1], [-19, -15, 10], [12, 18, -19], [-8, 4, 7], [-8, -9, 4], [7, 17, -15], [12, -7, -14], [-10, -11, 8], [2, -15, -11], [9, 6, 1], [-11, 20, -17], [9, -15, 13], [12, -7, -17], [-18, -2, 20], [20, 12, 4], [19, 11, 14], [-16, 18, -4], [-1, -17, -19], [-13, 15, 10], [-12, -14, -13], [12, -14, -7], [-7, 16, 10], [6, 10, 7], [20, 14, -16], [-19, 17, 11], [-7, 1, -20], [-5, 12, 15], [-4, -9, -13], [12, -11, -7], [-5, 19, -8], [1, 16, 17], [20, -14, -15], [13, -4, 10], [14, 7, 10], [-5, 9, 20], [10, 1, -19], [-16, -15, -1], [16, 3, -11], [-15, -10, 4], [4, -15, -3], [-10, -16, 11], [-8, 12, -5], [14, -6, 12], [1, 6, 11], [-13, -5, -1], [-7, -2, 12], [1, -20, 19], [-2, -13, -8], [15, 18, 4], [-11, 14, 9], [-6, -15, -2], [5, -12, -15], [-6, 17, 5], [-13, 5, -19], [20, -1, 14], [9, -17, 15], [-5, 19, -18], [-12, 8, -10], [-18, 14, -4], [15, -9, 13], [9, -5, -1], [10, -19, -14], [20, 9, 4], [-9, -2, 19], [-5, 13, -17], [2, -10, -18], [-18, 3, 11], [7, -9, 17], [-15, -6, -3], [-2, 3, -13], [12, 3, -2], [-2, -3, 17], [20, -15, -16], [-5, -17, -19], [-20, -18, 11], [-9, 1, -5], [-19, 9, 17], [12, -2, 17], [4, -16, -5]]\n"
     ]
    }
   ],
   "source": [
    "dimacs_path =  'data/uf20-91/uf20-01.cnf'\n",
    "n, m, formula = utils.dimacs2list(dimacs_path = dimacs_path)\n",
    "\n",
    "print(f'n: {n}')\n",
    "print(f'm: {m}')\n",
    "print(f'r: {m/n}')\n",
    "print()\n",
    "print(formula)"
   ]
  },
  {
   "cell_type": "code",
   "execution_count": 5,
   "metadata": {},
   "outputs": [
    {
     "name": "stdout",
     "output_type": "stream",
     "text": [
      "assignment: [0 0 0 0 0 1 0 0 1 0 0 1 0 1 0 1 1 1 0 0]\n",
      "num of sat clauses: 88 out of 91\n"
     ]
    }
   ],
   "source": [
    "# Create a random assignment\n",
    "#assignment = utils.random_assignment(n=n)\n",
    "# Verifying whether the assinment satisfied the formula\n",
    "#is_sat, num_sat, eval_formula = utils.assignment_verifier(formula, assignment)\n",
    "\n",
    "assignment, num_sat = random_solver(n, formula)\n",
    "print(f'assignment: {assignment}')\n",
    "print(f'num of sat clauses: {num_sat} out of {m}')"
   ]
  }
 ],
 "metadata": {
  "interpreter": {
   "hash": "2def132e6ff2d4a8f828400b7561c2d8eeec08ca69bfb84d2ccf8d1757b29253"
  },
  "kernelspec": {
   "display_name": "Python 3.7.0 64-bit ('torch_env': conda)",
   "name": "python3"
  },
  "language_info": {
   "codemirror_mode": {
    "name": "ipython",
    "version": 3
   },
   "file_extension": ".py",
   "mimetype": "text/x-python",
   "name": "python",
   "nbconvert_exporter": "python",
   "pygments_lexer": "ipython3",
   "version": "3.7.2"
  },
  "orig_nbformat": 4
 },
 "nbformat": 4,
 "nbformat_minor": 2
}
