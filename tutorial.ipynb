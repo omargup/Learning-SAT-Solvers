{
 "cells": [
  {
   "cell_type": "markdown",
   "metadata": {},
   "source": [
    "# Hands On Tutorial"
   ]
  },
  {
   "attachments": {},
   "cell_type": "markdown",
   "metadata": {},
   "source": [
    "## Example 0\n",
    "\n",
    "Create a random sat formula via URGenerator (Uniform Random Generator) and check if an assignment satifies it."
   ]
  },
  {
   "cell_type": "code",
   "execution_count": 1,
   "metadata": {},
   "outputs": [
    {
     "name": "stderr",
     "output_type": "stream",
     "text": [
      "2022-12-21 13:17:40.288487: I tensorflow/core/platform/cpu_feature_guard.cc:193] This TensorFlow binary is optimized with oneAPI Deep Neural Network Library (oneDNN) to use the following CPU instructions in performance-critical operations:  AVX2 FMA\n",
      "To enable them in other operations, rebuild TensorFlow with the appropriate compiler flags.\n"
     ]
    }
   ],
   "source": [
    "from src.sat_generator import URGenerator\n",
    "import src.utils as utils"
   ]
  },
  {
   "cell_type": "code",
   "execution_count": 2,
   "metadata": {},
   "outputs": [],
   "source": [
    "# Create a sat generator\n",
    "sat_gen = URGenerator(min_n = 5,\n",
    "                      max_n = 5,\n",
    "                      min_k = 3,\n",
    "                      max_k = 3,\n",
    "                      min_m = 20,\n",
    "                      max_m = 20)"
   ]
  },
  {
   "cell_type": "code",
   "execution_count": 3,
   "metadata": {},
   "outputs": [
    {
     "name": "stdout",
     "output_type": "stream",
     "text": [
      "n: 5\n",
      "m: 20\n",
      "r: 4.0\n",
      "[[-5, 2, 4], [5, -1, 2], [3, 5, 1], [4, 1, 5], [-2, -1, -3], [-1, 5, 3], [1, -4, -5], [-3, -5, 1], [-4, 5, 3], [-3, -1, 5], [2, -5, -4], [5, -1, 4], [-4, -3, 5], [4, 1, -3], [-5, -4, -3], [1, 5, 2], [1, -2, 3], [-3, 4, -5], [2, -4, 5], [4, 1, 2]]\n"
     ]
    }
   ],
   "source": [
    "# Create a random sat formula\n",
    "n, m, r, formula = sat_gen.generate_formula()\n",
    "\n",
    "print(f'n: {n}')\n",
    "print(f'm: {m}')\n",
    "print(f'r: {r}')\n",
    "print(formula)"
   ]
  },
  {
   "cell_type": "code",
   "execution_count": 4,
   "metadata": {},
   "outputs": [
    {
     "name": "stdout",
     "output_type": "stream",
     "text": [
      "this assignment sats the formula: False\n",
      "num of sat clauses: 17 out of 20\n"
     ]
    }
   ],
   "source": [
    "# Create an assignment\n",
    "assignment = [0, 1, 1, 0, 1]\n",
    "\n",
    "# Quickly check if the assignment sats or not the formula\n",
    "sat = utils.assignment_eval(formula, assignment)\n",
    "print(f'this assignment sats the formula: {sat}')\n",
    "\n",
    "# Count the number of clauses that the assignment satisfies\n",
    "is_sat, num_sat, eval_formula = utils.num_sat_clauses(formula, assignment)\n",
    "print(f'num of sat clauses: {num_sat} out of {m}')"
   ]
  },
  {
   "cell_type": "markdown",
   "metadata": {},
   "source": [
    "## Example 1\n",
    "\n",
    "Create random sat formula via URGenerator and check if a random assignment satisfies it."
   ]
  },
  {
   "cell_type": "code",
   "execution_count": 5,
   "metadata": {},
   "outputs": [],
   "source": [
    "from src.sat_generator import URGenerator\n",
    "from src.solvers import random_solver"
   ]
  },
  {
   "cell_type": "code",
   "execution_count": 6,
   "metadata": {},
   "outputs": [],
   "source": [
    "# Create a sat generator\n",
    "sat_gen = URGenerator(min_n = 5,\n",
    "                      max_n = 5,\n",
    "                      min_k = 3,\n",
    "                      max_k = 3,\n",
    "                      min_m = 20,\n",
    "                      max_m = 20)"
   ]
  },
  {
   "cell_type": "code",
   "execution_count": 7,
   "metadata": {},
   "outputs": [
    {
     "name": "stdout",
     "output_type": "stream",
     "text": [
      "n: 5\n",
      "m: 20\n",
      "r: 4.0\n",
      "[[4, 3, -1], [-3, 4, -1], [-3, 4, -5], [-3, -5, -2], [5, 3, -1], [-3, -4, 2], [2, 4, -5], [5, 3, -1], [-1, -2, -3], [4, 5, 2], [-5, -4, 2], [-2, -1, -4], [-1, -4, -5], [-5, 1, 2], [1, -3, 2], [4, 2, 3], [1, 2, 3], [1, -5, 2], [-4, 3, 5], [3, 4, -5]]\n"
     ]
    }
   ],
   "source": [
    "# Create a random sat formula\n",
    "n, m, r, formula = sat_gen.generate_formula()\n",
    "\n",
    "print(f'n: {n}')\n",
    "print(f'm: {m}')\n",
    "print(f'r: {r}')\n",
    "print(formula)"
   ]
  },
  {
   "cell_type": "code",
   "execution_count": 8,
   "metadata": {},
   "outputs": [
    {
     "name": "stdout",
     "output_type": "stream",
     "text": [
      "assignment: [0 1 1 0 1]\n",
      "num of sat clauses: 18 out of 20\n"
     ]
    }
   ],
   "source": [
    "# Create a random assignment\n",
    "assignment, num_sat = random_solver(n, formula)\n",
    "print(f'assignment: {assignment}')\n",
    "print(f'num of sat clauses: {num_sat} out of {m}')"
   ]
  },
  {
   "cell_type": "markdown",
   "metadata": {},
   "source": [
    "## Example 2\n",
    "\n",
    "Create a pair of random formulas via SRGenerator and use minisat_solver to check whether the formulas are sat or unsat."
   ]
  },
  {
   "cell_type": "code",
   "execution_count": 9,
   "metadata": {},
   "outputs": [],
   "source": [
    "from src.sat_generator import SRGenerator\n",
    "from src.solvers import minisat_solver"
   ]
  },
  {
   "cell_type": "code",
   "execution_count": 10,
   "metadata": {},
   "outputs": [],
   "source": [
    "# Create a sat generator\n",
    "sat_gen = SRGenerator(n = 20, \n",
    "                      p_bernoulli = 0.7,\n",
    "                      p_geometric = 0.4)"
   ]
  },
  {
   "cell_type": "code",
   "execution_count": 11,
   "metadata": {},
   "outputs": [
    {
     "name": "stdout",
     "output_type": "stream",
     "text": [
      "n: 20\n",
      "m: 81\n",
      "r: 4.05\n"
     ]
    }
   ],
   "source": [
    "# Create a random sat formula\n",
    "n, m, r, [formula_unsat, formula_sat] = sat_gen.generate_formula()\n",
    "\n",
    "print(f'n: {n}')\n",
    "print(f'm: {m}')\n",
    "print(f'r: {r}')"
   ]
  },
  {
   "cell_type": "code",
   "execution_count": 12,
   "metadata": {},
   "outputs": [
    {
     "name": "stdout",
     "output_type": "stream",
     "text": [
      "[[-20, -19], [-9, -1, -10, 4, -15, -11], [14, 4, 3], [-16, 6, 7, -13, -8, 18], [20, -17, 19, 15], [8, 3, -14, -17, -9, -12, 7, 13, 6, 16, 11], [11, -1, 8], [-11, -20, -10, 2], [-4, 16, -17], [20, 8, -14], [17, 14, -15, -7, -19], [16, 19, 15], [-5, -20, -10], [12, -1, 10], [13, -18], [2, -7, 18], [17, 7, -9], [-19, 10], [-6, -10, -18], [5, 15], [-16, 13, -8], [12, -3, 20, 14, 6], [14, 10, -4, -5, -6], [14, 9, 12], [-16, -9, -5], [-17, -16, -8, -5, 18], [-14, 16, 11], [-17, 20], [-8, -20, -16, -4], [15, -20, -8], [-4, -12, 3, 13, 18], [13, -18, -11], [-9, -18, 3], [-18, 14, 17], [8, 20, -5], [13, 9, -4, 12], [10, 5, -17], [12, 20, -13], [3, -11, -19, 4, -17, 8, 7, -18], [-16, -13, 20], [18, -12], [-18, -2], [-16, 13, 2, 8, 1], [13, -4, 3], [-19, 9, 16, -4, 13], [19, -5, -6, -1, 20], [3, 13, 8], [-10, -9], [7, -18, -10, 4], [-4, -6, -12], [-6, -5], [18, 20, 8, 12, 7, -14, 19], [-16, 18, -20, 9], [7, -18, 15], [10, -13], [20, 13, -1], [-13, -2, 14, 9, -18, 20], [-18, -14, -15], [-18, 3, -12], [-6, 4], [-11, 9], [-4, 12], [18, -8, 2, 11], [-17, 1, 10, -2], [-18, -6, 16, 7, -5, -11, 4, -15], [12, -18, 10, 20], [-3, -6, 4], [3, -20, 6], [10, -6, 13, 20], [-15, -20, 6], [-12, -20, 16], [3, -5], [16, 2, -20, 5, -17], [6, -14, 11, -16], [4, 2], [2, -12], [10, 11, 3, -15, -17, 19], [6, -18, -8, 9], [-16, -8, -15, 1], [3, 10, -1, 17], [-13, 19]]\n"
     ]
    }
   ],
   "source": [
    "print(formula_sat)"
   ]
  },
  {
   "cell_type": "code",
   "execution_count": 13,
   "metadata": {},
   "outputs": [
    {
     "name": "stdout",
     "output_type": "stream",
     "text": [
      "assignment: [0, 1, 1, 0, 0, 0, 1, 1, 1, 0, 1, 0, 0, 1, 1, 0, 0, 0, 0, 0]\n",
      "is_sat: True\n"
     ]
    }
   ],
   "source": [
    "# Using minisat_solver to check satifiability\n",
    "assignment, is_sat = minisat_solver(n, formula_sat)\n",
    "print(f'assignment: {assignment}') # None means there is no assigment that satisfies the formula.\n",
    "print(f'is_sat: {is_sat}')"
   ]
  },
  {
   "cell_type": "code",
   "execution_count": 14,
   "metadata": {},
   "outputs": [
    {
     "name": "stdout",
     "output_type": "stream",
     "text": [
      "[[-20, -19], [-9, -1, -10, 4, -15, -11], [14, 4, 3], [-16, 6, 7, -13, -8, 18], [20, -17, 19, 15], [8, 3, -14, -17, -9, -12, 7, 13, 6, 16, 11], [11, -1, 8], [-11, -20, -10, 2], [-4, 16, -17], [20, 8, -14], [17, 14, -15, -7, -19], [16, 19, 15], [-5, -20, -10], [12, -1, 10], [13, -18], [2, -7, 18], [17, 7, -9], [-19, 10], [-6, -10, -18], [5, 15], [-16, 13, -8], [12, -3, 20, 14, 6], [14, 10, -4, -5, -6], [14, 9, 12], [-16, -9, -5], [-17, -16, -8, -5, 18], [-14, 16, 11], [-17, 20], [-8, -20, -16, -4], [15, -20, -8], [-4, -12, 3, 13, 18], [13, -18, -11], [-9, -18, 3], [-18, 14, 17], [8, 20, -5], [13, 9, -4, 12], [10, 5, -17], [12, 20, -13], [3, -11, -19, 4, -17, 8, 7, -18], [-16, -13, 20], [18, -12], [-18, -2], [-16, 13, 2, 8, 1], [13, -4, 3], [-19, 9, 16, -4, 13], [19, -5, -6, -1, 20], [3, 13, 8], [-10, -9], [7, -18, -10, 4], [-4, -6, -12], [-6, -5], [18, 20, 8, 12, 7, -14, 19], [-16, 18, -20, 9], [7, -18, 15], [10, -13], [20, 13, -1], [-13, -2, 14, 9, -18, 20], [-18, -14, -15], [-18, 3, -12], [-6, 4], [-11, 9], [-4, 12], [18, -8, 2, 11], [-17, 1, 10, -2], [-18, -6, 16, 7, -5, -11, 4, -15], [12, -18, 10, 20], [-3, -6, 4], [3, -20, 6], [10, -6, 13, 20], [-15, -20, 6], [-12, -20, 16], [3, -5], [16, 2, -20, 5, -17], [6, -14, 11, -16], [4, 2], [2, -12], [10, 11, 3, -15, -17, 19], [6, -18, -8, 9], [-16, -8, -15, 1], [3, 10, -1, 17], [13, 19]]\n"
     ]
    }
   ],
   "source": [
    "print(formula_unsat)"
   ]
  },
  {
   "cell_type": "code",
   "execution_count": 15,
   "metadata": {},
   "outputs": [
    {
     "name": "stdout",
     "output_type": "stream",
     "text": [
      "assignment: None\n",
      "is_sat: False\n"
     ]
    }
   ],
   "source": [
    "# Using minisat_solver to check satifiability\n",
    "assignment, is_sat = minisat_solver(n, formula_unsat)\n",
    "print(f'assignment: {assignment}') # None means there is no assigment that satisfies the formula.\n",
    "print(f'is_sat: {is_sat}')"
   ]
  },
  {
   "cell_type": "markdown",
   "metadata": {},
   "source": [
    "## Example 3\n",
    "\n",
    "Load a uf20-91 instance from the SATLIB dataset and check if a random assignment satisfies the formula.\n",
    "\n",
    "For this example we download the uf20-91 folder from https://www.cs.ubc.ca/~hoos/SATLIB/benchm.html and save it in the 'data' folder."
   ]
  },
  {
   "cell_type": "code",
   "execution_count": 16,
   "metadata": {},
   "outputs": [],
   "source": [
    "from src.solvers import random_solver\n",
    "import src.utils as utils"
   ]
  },
  {
   "cell_type": "code",
   "execution_count": 17,
   "metadata": {},
   "outputs": [
    {
     "name": "stdout",
     "output_type": "stream",
     "text": [
      "n: 20\n",
      "m: 91\n",
      "r: 4.55\n",
      "\n",
      "[[4, -18, 19], [3, 18, -5], [-5, -8, -15], [-20, 7, -16], [10, -13, -7], [-12, -9, 17], [17, 19, 5], [-16, 9, 15], [11, -5, -14], [18, -10, 13], [-3, 11, 12], [-6, -17, -8], [-18, 14, 1], [-19, -15, 10], [12, 18, -19], [-8, 4, 7], [-8, -9, 4], [7, 17, -15], [12, -7, -14], [-10, -11, 8], [2, -15, -11], [9, 6, 1], [-11, 20, -17], [9, -15, 13], [12, -7, -17], [-18, -2, 20], [20, 12, 4], [19, 11, 14], [-16, 18, -4], [-1, -17, -19], [-13, 15, 10], [-12, -14, -13], [12, -14, -7], [-7, 16, 10], [6, 10, 7], [20, 14, -16], [-19, 17, 11], [-7, 1, -20], [-5, 12, 15], [-4, -9, -13], [12, -11, -7], [-5, 19, -8], [1, 16, 17], [20, -14, -15], [13, -4, 10], [14, 7, 10], [-5, 9, 20], [10, 1, -19], [-16, -15, -1], [16, 3, -11], [-15, -10, 4], [4, -15, -3], [-10, -16, 11], [-8, 12, -5], [14, -6, 12], [1, 6, 11], [-13, -5, -1], [-7, -2, 12], [1, -20, 19], [-2, -13, -8], [15, 18, 4], [-11, 14, 9], [-6, -15, -2], [5, -12, -15], [-6, 17, 5], [-13, 5, -19], [20, -1, 14], [9, -17, 15], [-5, 19, -18], [-12, 8, -10], [-18, 14, -4], [15, -9, 13], [9, -5, -1], [10, -19, -14], [20, 9, 4], [-9, -2, 19], [-5, 13, -17], [2, -10, -18], [-18, 3, 11], [7, -9, 17], [-15, -6, -3], [-2, 3, -13], [12, 3, -2], [-2, -3, 17], [20, -15, -16], [-5, -17, -19], [-20, -18, 11], [-9, 1, -5], [-19, 9, 17], [12, -2, 17], [4, -16, -5]]\n"
     ]
    }
   ],
   "source": [
    "# Load the formula in dimacs format and convert to list \n",
    "dimacs_path =  'data/uf20-91/uf20-01.cnf'\n",
    "n, m, formula = utils.dimacs2list(dimacs_path = dimacs_path)\n",
    "\n",
    "print(f'n: {n}')\n",
    "print(f'm: {m}')\n",
    "print(f'r: {m/n}')\n",
    "print()\n",
    "print(formula)"
   ]
  },
  {
   "cell_type": "code",
   "execution_count": 18,
   "metadata": {},
   "outputs": [
    {
     "name": "stdout",
     "output_type": "stream",
     "text": [
      "assignment: [0 0 1 1 0 1 1 1 1 1 1 1 0 0 1 0 1 1 1 1]\n",
      "num of sat clauses: 83 out of 91\n"
     ]
    }
   ],
   "source": [
    "# Create a random assignment\n",
    "assignment, num_sat = random_solver(n, formula)\n",
    "print(f'assignment: {assignment}')\n",
    "print(f'num of sat clauses: {num_sat} out of {m}')"
   ]
  }
 ],
 "metadata": {
  "kernelspec": {
   "display_name": "sat",
   "language": "python",
   "name": "python3"
  },
  "language_info": {
   "codemirror_mode": {
    "name": "ipython",
    "version": 3
   },
   "file_extension": ".py",
   "mimetype": "text/x-python",
   "name": "python",
   "nbconvert_exporter": "python",
   "pygments_lexer": "ipython3",
   "version": "3.9.15"
  },
  "orig_nbformat": 4,
  "vscode": {
   "interpreter": {
    "hash": "e64a5cdfda652525eef7bc2c3eb79f7439a7622cbd2de2fa6905c022061d543b"
   }
  }
 },
 "nbformat": 4,
 "nbformat_minor": 2
}
