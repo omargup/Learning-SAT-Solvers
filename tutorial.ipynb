{
 "cells": [
  {
   "cell_type": "markdown",
   "metadata": {},
   "source": [
    "# Hands On Tutorial"
   ]
  },
  {
   "cell_type": "markdown",
   "metadata": {},
   "source": [
    "## Example 1\n",
    "\n",
    "Create random sat formula via UniformGenerator and check if a random assignment satisfies it. "
   ]
  },
  {
   "cell_type": "code",
   "execution_count": 2,
   "metadata": {},
   "outputs": [],
   "source": [
    "from src.sat_generator import URGenerator\n",
    "from src.solvers import random_solver\n",
    "#import src.utils as utils"
   ]
  },
  {
   "cell_type": "code",
   "execution_count": 3,
   "metadata": {},
   "outputs": [],
   "source": [
    "# Create a sat generator\n",
    "sat_gen = URGenerator(min_n = 5,\n",
    "                      max_n = 5,\n",
    "                      min_k = 3,\n",
    "                      max_k = 3,\n",
    "                      min_m = 20,\n",
    "                      max_m = 20)"
   ]
  },
  {
   "cell_type": "code",
   "execution_count": 5,
   "metadata": {},
   "outputs": [
    {
     "name": "stdout",
     "output_type": "stream",
     "text": [
      "n: 5\n",
      "m: 20\n",
      "r: 4.0\n",
      "[[4, 5, 1], [-1, -5, -2], [3, 5, 2], [4, 1, -2], [-5, -1, 4], [1, -2, 5], [-5, -3, -2], [2, 1, -4], [5, -3, -1], [1, -2, 3], [3, 2, 5], [4, -5, 2], [-2, -3, -4], [-5, -3, 2], [2, -4, -3], [-1, -2, -5], [3, 1, -5], [5, -1, -2], [-5, -1, 3], [5, 4, 2]]\n"
     ]
    }
   ],
   "source": [
    "# Create a random sat formula\n",
    "n, m, r, formula = sat_gen.generate_formula()\n",
    "\n",
    "print(f'n: {n}')\n",
    "print(f'm: {m}')\n",
    "print(f'r: {r}')\n",
    "print(formula)"
   ]
  },
  {
   "cell_type": "code",
   "execution_count": 13,
   "metadata": {},
   "outputs": [
    {
     "name": "stdout",
     "output_type": "stream",
     "text": [
      "assignment: [0 1 1 0 1]\n",
      "num of sat clauses: 18 out of 20\n"
     ]
    }
   ],
   "source": [
    "# Create a random assignment\n",
    "#assignment = utils.random_assignment(n=n)\n",
    "# Verifying whether the assinment satisfied the formula\n",
    "#is_sat, num_sat, eval_formula = utils.assignment_verifier(formula, assignment)\n",
    "\n",
    "assignment, num_sat = random_solver(n, formula)\n",
    "print(f'assignment: {assignment}')\n",
    "print(f'num of sat clauses: {num_sat} out of {m}')"
   ]
  },
  {
   "cell_type": "markdown",
   "metadata": {},
   "source": [
    "## Example 2\n",
    "\n",
    "Create pair of random formulas via SRGenerator and use minisat_solver to check if the formula is sat or unsat."
   ]
  },
  {
   "cell_type": "code",
   "execution_count": 14,
   "metadata": {},
   "outputs": [],
   "source": [
    "from src.sat_generator import SRGenerator\n",
    "from src.solvers import minisat_solver\n",
    "#import PyMiniSolvers.minisolvers as minisolvers"
   ]
  },
  {
   "cell_type": "code",
   "execution_count": 15,
   "metadata": {},
   "outputs": [],
   "source": [
    "# Create a sat generator\n",
    "sat_gen = SRGenerator(n = 20, \n",
    "                      p_bernoulli = 0.7,\n",
    "                      p_geometric = 0.4)"
   ]
  },
  {
   "cell_type": "code",
   "execution_count": 16,
   "metadata": {},
   "outputs": [
    {
     "name": "stdout",
     "output_type": "stream",
     "text": [
      "n: 20\n",
      "m: 166\n",
      "r: 8.3\n"
     ]
    }
   ],
   "source": [
    "# Create a random sat formula\n",
    "n, m, r, [formula_unsat, formula_sat] = sat_gen.generate_formula()\n",
    "\n",
    "print(f'n: {n}')\n",
    "print(f'm: {m}')\n",
    "print(f'r: {r}')"
   ]
  },
  {
   "cell_type": "code",
   "execution_count": 17,
   "metadata": {},
   "outputs": [
    {
     "name": "stdout",
     "output_type": "stream",
     "text": [
      "[[-15, -11, 12, -19], [-20, 8], [9, -20, 19, -18], [15, 20, 2, 10], [-6, -4, 17, -8, 5, 1, 10, -14, -16, 7, -18, -15], [11, -17, -5, 12], [-2, -20, -17], [-16, -7, -5, -8, 9, -17], [-10, 5, -14], [-1, -15, -20], [3, -18, 9, -5, -20, -1, -17, 12, -8, -19, 14, -15, -13], [-18, -15, 14], [1, 3, -14, 13], [-8, 18, 2], [-17, -7, -12, -1], [-4, 13, -10, -6, -17, 9], [15, -20], [5, -3, 13], [-6, 3, -13, -8], [-20, -16, 4, -8, 19, 2], [12, -13, 7], [-18, -8, 11, 10, -7, -6, -5, 9], [7, 6, 10], [8, 7, -18], [6, -17, 12], [14, -20, 19], [-7, 19, -14], [-8, 14, 18], [-11, -12, -9], [-19, -7, -18, 4, 6, 20, 3, -10, 17, -14], [-4, 6, 10, -3], [8, -10, 3], [-11, -7, 1, -17], [17, 9, 5, 13], [14, -5, -4, -10, 20], [16, 8, -3, 19, -10, 14, 4], [19, -10, 3, 1, -16], [-6, 19, -5, 17, -9, 3, 18, -10, 11, -12], [8, 19, -18], [5, 2, -12, -16], [13, 11, 9, 2], [10, -6, 1, -13, -8, -5, 11, 9, 15], [5, -2, -16, 20, 3], [-10, -5, 14, -17, 6], [15, -1], [12, -3, -18, -17], [-2, -3, 4], [-12, 8, 9], [14, -16, -9], [16, -2, -12, -5], [2, 9], [-17, -16, 6], [-15, 4, -13], [-3, -17, -2], [-14, 6], [4, 3, -1, -15, -11, 18, -8, 12, 17], [4, -11, 1, 15], [-16, 11, -6], [7, 8, 5, -2], [-19, -12, 17, -6, -18], [-16, 4, -10], [-15, -4, -2, -14], [20, -15, 16], [10, -12, -4], [13, 10, -8], [17, 8, -3, 5, -4, -16], [18, -9, 6, -13], [-19, -12, 16, -14, 3], [-10, 14, -11, 7, 19, -4, 16], [-10, 9, 15, 13], [-11, 4, 1, -3, 7], [18, 1, -19, 9, 2], [13, 12, 6], [-10, -8, 14], [-19, 9, -4, 14, 7], [4, 9, -5, 14], [-1, -6, 10], [20, -15, -11, -18, -13], [6, -18, -17, 13, -4, -14, -1, -19, -12, 2, 9], [9, 12, -7, 3, 4, 15], [20, -1, 11], [-14, -3, -7, 12, 16, -17, 11], [9, -8, -16, -19], [-13, -10, 20, 19], [5, 15, 17, 19, -1, 12], [-13, 8, 5], [-17, 8, -11, -2, -6, -19], [-2, -13, -6, -11, -5, 3, 14], [11, -5], [-10, -20, 3, 16], [5, -7, -18], [-1, 14, 9, -12, 20], [-7, 20, 11, 14], [7, -16, 14], [-1, 13, 12, 4, -6], [4, -6, 2, 5, 16, 19], [10, -12, -18, -4], [-9, 14, 12, 19], [-15, -17, -6], [-3, 17, -12, 5, 14], [18, -10, 5, -16], [20, 14, 13], [20, -10, 4], [18, 14, 17, -5, -6, 19, 11, 9, -1, -13, -15], [18, 4, -5, -11, -6, -1], [-17, -3, 10, 1], [-2, -14, 6], [-12, 16, -17], [-6, -20, -14], [-18, -12, -7, 1, 2], [18, -6, 20, -7, 8, 12, 10], [-5, -8], [-7, -5, 18, -20], [15, 4, 6, 1, -14, 2, -16, -10], [1, 9, -12, -4, 18, -3, -7], [5, 11, 16, -8, 17], [-15, 13, 5, -20, -19, 1], [-7, 12, 1, 4], [-16, 3, -1], [15, 16, 7, 2, -17, 6], [11, 5], [20, -13, -6], [-7, 12, 18], [-8, 4, -14], [2, 8, -9, 18], [11, -10], [-11, -20, -7, 17, 4, -14], [-2, 16, 8], [-11, -3, -8], [11, 6, -8], [9, 16, -8, 14, -5, -12], [-4, 2, 17, 20], [-20, 14, 1, 9, 7, 12], [5, 16, -3], [-1, -8, 11, -15, 20], [-13, 14, -17, -1], [11, -3, -10, 20], [-14, -4, 13], [-5, -8, -9, 2, 19, 10, -18, -13, 7, 14], [-10, 11], [-9, 5, 15], [5, 16, 18], [12, 7, 14], [7, -4, -11], [9, -2, -8, 19, -12], [10, -17, -19], [-16, -3, 17, 15, 10, -9, -18, 1], [7, 17, -9, 15], [15, 9, 13, 4, 11, 1, -12], [-20, -5, 9], [15, -20, 5, -2, 8, -13], [-12, 8, 20, -18, 16, -4], [5, 18, -3], [-19, -1, -2, 18], [-1, -16, 3, 12, 9, 5, 20], [12, 13], [20, -2, 11, -16], [6, 7, -14], [7, -3, -16], [-14, -4, 3, 19, 2], [-14, -15, 7], [16, 9, 8], [-11, -10, 7], [20, -1, -13, -17, 12], [12, 6, -18, -20, 16, -14, -19], [15, -13, 16, 3]]\n"
     ]
    }
   ],
   "source": [
    "print(formula_sat)"
   ]
  },
  {
   "cell_type": "code",
   "execution_count": 18,
   "metadata": {},
   "outputs": [
    {
     "name": "stdout",
     "output_type": "stream",
     "text": [
      "assignment: [0, 1, 0, 1, 1, 0, 1, 0, 0, 0, 1, 0, 1, 0, 0, 1, 0, 1, 1, 0]\n",
      "is_sat: True\n"
     ]
    }
   ],
   "source": [
    "#solver = minisolvers.MinisatSolver()\n",
    "#for i in range(n):\n",
    "#    solver.new_var()\n",
    "#for clause in formula_sat:\n",
    "#    solver.add_clause(clause)\n",
    "#print(solver.solve())\n",
    "\n",
    "assignment, is_sat = minisat_solver(n, formula_sat)\n",
    "print(f'assignment: {assignment}') # None means there is no assigment that satisfies the formula.\n",
    "print(f'is_sat: {is_sat}')"
   ]
  },
  {
   "cell_type": "code",
   "execution_count": 19,
   "metadata": {},
   "outputs": [
    {
     "name": "stdout",
     "output_type": "stream",
     "text": [
      "[[-15, -11, 12, -19], [-20, 8], [9, -20, 19, -18], [15, 20, 2, 10], [-6, -4, 17, -8, 5, 1, 10, -14, -16, 7, -18, -15], [11, -17, -5, 12], [-2, -20, -17], [-16, -7, -5, -8, 9, -17], [-10, 5, -14], [-1, -15, -20], [3, -18, 9, -5, -20, -1, -17, 12, -8, -19, 14, -15, -13], [-18, -15, 14], [1, 3, -14, 13], [-8, 18, 2], [-17, -7, -12, -1], [-4, 13, -10, -6, -17, 9], [15, -20], [5, -3, 13], [-6, 3, -13, -8], [-20, -16, 4, -8, 19, 2], [12, -13, 7], [-18, -8, 11, 10, -7, -6, -5, 9], [7, 6, 10], [8, 7, -18], [6, -17, 12], [14, -20, 19], [-7, 19, -14], [-8, 14, 18], [-11, -12, -9], [-19, -7, -18, 4, 6, 20, 3, -10, 17, -14], [-4, 6, 10, -3], [8, -10, 3], [-11, -7, 1, -17], [17, 9, 5, 13], [14, -5, -4, -10, 20], [16, 8, -3, 19, -10, 14, 4], [19, -10, 3, 1, -16], [-6, 19, -5, 17, -9, 3, 18, -10, 11, -12], [8, 19, -18], [5, 2, -12, -16], [13, 11, 9, 2], [10, -6, 1, -13, -8, -5, 11, 9, 15], [5, -2, -16, 20, 3], [-10, -5, 14, -17, 6], [15, -1], [12, -3, -18, -17], [-2, -3, 4], [-12, 8, 9], [14, -16, -9], [16, -2, -12, -5], [2, 9], [-17, -16, 6], [-15, 4, -13], [-3, -17, -2], [-14, 6], [4, 3, -1, -15, -11, 18, -8, 12, 17], [4, -11, 1, 15], [-16, 11, -6], [7, 8, 5, -2], [-19, -12, 17, -6, -18], [-16, 4, -10], [-15, -4, -2, -14], [20, -15, 16], [10, -12, -4], [13, 10, -8], [17, 8, -3, 5, -4, -16], [18, -9, 6, -13], [-19, -12, 16, -14, 3], [-10, 14, -11, 7, 19, -4, 16], [-10, 9, 15, 13], [-11, 4, 1, -3, 7], [18, 1, -19, 9, 2], [13, 12, 6], [-10, -8, 14], [-19, 9, -4, 14, 7], [4, 9, -5, 14], [-1, -6, 10], [20, -15, -11, -18, -13], [6, -18, -17, 13, -4, -14, -1, -19, -12, 2, 9], [9, 12, -7, 3, 4, 15], [20, -1, 11], [-14, -3, -7, 12, 16, -17, 11], [9, -8, -16, -19], [-13, -10, 20, 19], [5, 15, 17, 19, -1, 12], [-13, 8, 5], [-17, 8, -11, -2, -6, -19], [-2, -13, -6, -11, -5, 3, 14], [11, -5], [-10, -20, 3, 16], [5, -7, -18], [-1, 14, 9, -12, 20], [-7, 20, 11, 14], [7, -16, 14], [-1, 13, 12, 4, -6], [4, -6, 2, 5, 16, 19], [10, -12, -18, -4], [-9, 14, 12, 19], [-15, -17, -6], [-3, 17, -12, 5, 14], [18, -10, 5, -16], [20, 14, 13], [20, -10, 4], [18, 14, 17, -5, -6, 19, 11, 9, -1, -13, -15], [18, 4, -5, -11, -6, -1], [-17, -3, 10, 1], [-2, -14, 6], [-12, 16, -17], [-6, -20, -14], [-18, -12, -7, 1, 2], [18, -6, 20, -7, 8, 12, 10], [-5, -8], [-7, -5, 18, -20], [15, 4, 6, 1, -14, 2, -16, -10], [1, 9, -12, -4, 18, -3, -7], [5, 11, 16, -8, 17], [-15, 13, 5, -20, -19, 1], [-7, 12, 1, 4], [-16, 3, -1], [15, 16, 7, 2, -17, 6], [11, 5], [20, -13, -6], [-7, 12, 18], [-8, 4, -14], [2, 8, -9, 18], [11, -10], [-11, -20, -7, 17, 4, -14], [-2, 16, 8], [-11, -3, -8], [11, 6, -8], [9, 16, -8, 14, -5, -12], [-4, 2, 17, 20], [-20, 14, 1, 9, 7, 12], [5, 16, -3], [-1, -8, 11, -15, 20], [-13, 14, -17, -1], [11, -3, -10, 20], [-14, -4, 13], [-5, -8, -9, 2, 19, 10, -18, -13, 7, 14], [-10, 11], [-9, 5, 15], [5, 16, 18], [12, 7, 14], [7, -4, -11], [9, -2, -8, 19, -12], [10, -17, -19], [-16, -3, 17, 15, 10, -9, -18, 1], [7, 17, -9, 15], [15, 9, 13, 4, 11, 1, -12], [-20, -5, 9], [15, -20, 5, -2, 8, -13], [-12, 8, 20, -18, 16, -4], [5, 18, -3], [-19, -1, -2, 18], [-1, -16, 3, 12, 9, 5, 20], [12, 13], [20, -2, 11, -16], [6, 7, -14], [7, -3, -16], [-14, -4, 3, 19, 2], [-14, -15, 7], [16, 9, 8], [-11, -10, 7], [20, -1, -13, -17, 12], [12, 6, -18, -20, 16, -14, -19], [15, -13, -16, 3]]\n"
     ]
    }
   ],
   "source": [
    "print(formula_unsat)"
   ]
  },
  {
   "cell_type": "code",
   "execution_count": 20,
   "metadata": {},
   "outputs": [
    {
     "name": "stdout",
     "output_type": "stream",
     "text": [
      "assignment: None\n",
      "is_sat: False\n"
     ]
    }
   ],
   "source": [
    "#solver = minisolvers.MinisatSolver()\n",
    "#for i in range(n):\n",
    "#    solver.new_var()\n",
    "#for clause in formula_sat:\n",
    "#    solver.add_clause(clause)\n",
    "#print(solver.solve())\n",
    "\n",
    "assignment, is_sat = minisat_solver(n, formula_unsat)\n",
    "print(f'assignment: {assignment}') # None means there is no assigment that satisfies the formula.\n",
    "print(f'is_sat: {is_sat}')"
   ]
  },
  {
   "cell_type": "markdown",
   "metadata": {},
   "source": [
    "## Example 3\n",
    "\n",
    "Load a uf20-91 instance from the SATLIB dataset and check if a random assignment satisfies the formula.\n",
    "\n",
    "SATLIB: https://www.cs.ubc.ca/~hoos/SATLIB/benchm.html"
   ]
  },
  {
   "cell_type": "code",
   "execution_count": 22,
   "metadata": {},
   "outputs": [],
   "source": [
    "from src.solvers import random_solver\n",
    "import src.utils as utils"
   ]
  },
  {
   "cell_type": "code",
   "execution_count": 23,
   "metadata": {},
   "outputs": [
    {
     "name": "stdout",
     "output_type": "stream",
     "text": [
      "n: 20\n",
      "m: 91\n",
      "r: 4.55\n",
      "\n",
      "[[4, -18, 19], [3, 18, -5], [-5, -8, -15], [-20, 7, -16], [10, -13, -7], [-12, -9, 17], [17, 19, 5], [-16, 9, 15], [11, -5, -14], [18, -10, 13], [-3, 11, 12], [-6, -17, -8], [-18, 14, 1], [-19, -15, 10], [12, 18, -19], [-8, 4, 7], [-8, -9, 4], [7, 17, -15], [12, -7, -14], [-10, -11, 8], [2, -15, -11], [9, 6, 1], [-11, 20, -17], [9, -15, 13], [12, -7, -17], [-18, -2, 20], [20, 12, 4], [19, 11, 14], [-16, 18, -4], [-1, -17, -19], [-13, 15, 10], [-12, -14, -13], [12, -14, -7], [-7, 16, 10], [6, 10, 7], [20, 14, -16], [-19, 17, 11], [-7, 1, -20], [-5, 12, 15], [-4, -9, -13], [12, -11, -7], [-5, 19, -8], [1, 16, 17], [20, -14, -15], [13, -4, 10], [14, 7, 10], [-5, 9, 20], [10, 1, -19], [-16, -15, -1], [16, 3, -11], [-15, -10, 4], [4, -15, -3], [-10, -16, 11], [-8, 12, -5], [14, -6, 12], [1, 6, 11], [-13, -5, -1], [-7, -2, 12], [1, -20, 19], [-2, -13, -8], [15, 18, 4], [-11, 14, 9], [-6, -15, -2], [5, -12, -15], [-6, 17, 5], [-13, 5, -19], [20, -1, 14], [9, -17, 15], [-5, 19, -18], [-12, 8, -10], [-18, 14, -4], [15, -9, 13], [9, -5, -1], [10, -19, -14], [20, 9, 4], [-9, -2, 19], [-5, 13, -17], [2, -10, -18], [-18, 3, 11], [7, -9, 17], [-15, -6, -3], [-2, 3, -13], [12, 3, -2], [-2, -3, 17], [20, -15, -16], [-5, -17, -19], [-20, -18, 11], [-9, 1, -5], [-19, 9, 17], [12, -2, 17], [4, -16, -5]]\n"
     ]
    }
   ],
   "source": [
    "dimacs_path =  'data/uf20-91/uf20-01.cnf'\n",
    "n, m, formula = utils.dimacs2list(dimacs_path = dimacs_path)\n",
    "\n",
    "print(f'n: {n}')\n",
    "print(f'm: {m}')\n",
    "print(f'r: {m/n}')\n",
    "print()\n",
    "print(formula)"
   ]
  },
  {
   "cell_type": "code",
   "execution_count": 30,
   "metadata": {},
   "outputs": [
    {
     "name": "stdout",
     "output_type": "stream",
     "text": [
      "assignment: [0 0 1 0 1 0 0 1 0 0 0 0 0 0 0 1 0 0 1 1]\n",
      "num of sat clauses: 75 out of 91\n"
     ]
    }
   ],
   "source": [
    "# Create a random assignment\n",
    "#assignment = utils.random_assignment(n=n)\n",
    "# Verifying whether the assignment satisfied the formula\n",
    "#is_sat, num_sat, eval_formula = utils.assignment_verifier(formula, assignment)\n",
    "\n",
    "assignment, num_sat = random_solver(n, formula)\n",
    "print(f'assignment: {assignment}')\n",
    "print(f'num of sat clauses: {num_sat} out of {m}')"
   ]
  }
 ],
 "metadata": {
  "interpreter": {
   "hash": "2def132e6ff2d4a8f828400b7561c2d8eeec08ca69bfb84d2ccf8d1757b29253"
  },
  "kernelspec": {
   "display_name": "Python 3.7.0 64-bit ('torch_env': conda)",
   "name": "python3"
  },
  "language_info": {
   "codemirror_mode": {
    "name": "ipython",
    "version": 3
   },
   "file_extension": ".py",
   "mimetype": "text/x-python",
   "name": "python",
   "nbconvert_exporter": "python",
   "pygments_lexer": "ipython3",
   "version": "3.7.2"
  },
  "orig_nbformat": 4
 },
 "nbformat": 4,
 "nbformat_minor": 2
}
