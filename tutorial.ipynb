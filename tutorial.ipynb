{
 "cells": [
  {
   "cell_type": "markdown",
   "metadata": {},
   "source": [
    "# Hands On Tutorial"
   ]
  },
  {
   "cell_type": "markdown",
   "metadata": {},
   "source": [
    "## Example 0\n",
    "\n",
    "Create a random sat formula via URGenerator and check if an assignment satifies it."
   ]
  },
  {
   "cell_type": "code",
   "execution_count": 1,
   "metadata": {},
   "outputs": [],
   "source": [
    "from src.sat_generator import URGenerator\n",
    "import src.utils as utils"
   ]
  },
  {
   "cell_type": "code",
   "execution_count": 2,
   "metadata": {},
   "outputs": [],
   "source": [
    "# Create a sat generator\n",
    "sat_gen = URGenerator(min_n = 5,\n",
    "                      max_n = 5,\n",
    "                      min_k = 3,\n",
    "                      max_k = 3,\n",
    "                      min_m = 20,\n",
    "                      max_m = 20)"
   ]
  },
  {
   "cell_type": "code",
   "execution_count": 3,
   "metadata": {},
   "outputs": [
    {
     "name": "stdout",
     "output_type": "stream",
     "text": [
      "n: 5\n",
      "m: 20\n",
      "r: 4.0\n",
      "[[4, -2, 5], [-2, -5, 1], [4, 1, -5], [-2, 3, -4], [-4, 5, 3], [2, -1, -4], [1, -3, 2], [-1, -3, 5], [3, -1, 5], [-2, -5, 3], [-2, 5, -3], [-4, 3, 1], [3, 4, -1], [5, -1, -4], [4, -1, 3], [5, 4, 3], [-4, -2, -3], [1, -4, 3], [-3, -2, 5], [-5, -2, -1]]\n"
     ]
    }
   ],
   "source": [
    "# Create a random sat formula\n",
    "n, m, r, formula = sat_gen.generate_formula()\n",
    "\n",
    "print(f'n: {n}')\n",
    "print(f'm: {m}')\n",
    "print(f'r: {r}')\n",
    "print(formula)"
   ]
  },
  {
   "cell_type": "code",
   "execution_count": 5,
   "metadata": {},
   "outputs": [
    {
     "name": "stdout",
     "output_type": "stream",
     "text": [
      "this assignment sats the formula: False\n",
      "num of sat clauses: 18 out of 20\n"
     ]
    }
   ],
   "source": [
    "# Create an assignment\n",
    "assignment = [0, 1, 1, 0, 1]\n",
    "\n",
    "# Quickly check if the assignment sats or not the formula\n",
    "sat = utils.assignment_eval(formula, assignment)\n",
    "print(f'this assignment sats the formula: {sat}')\n",
    "\n",
    "# Count the number of clauses that the assignment satisfied\n",
    "is_sat, num_sat, eval_formula = utils.num_sat_clauses(formula, assignment)\n",
    "print(f'num of sat clauses: {num_sat} out of {m}')"
   ]
  },
  {
   "cell_type": "markdown",
   "metadata": {},
   "source": [
    "## Example 1\n",
    "\n",
    "Create random sat formula via URGenerator and check if a random assignment satisfies it."
   ]
  },
  {
   "cell_type": "code",
   "execution_count": 6,
   "metadata": {},
   "outputs": [],
   "source": [
    "from src.sat_generator import URGenerator\n",
    "from src.solvers import random_solver"
   ]
  },
  {
   "cell_type": "code",
   "execution_count": 7,
   "metadata": {},
   "outputs": [],
   "source": [
    "# Create a sat generator\n",
    "sat_gen = URGenerator(min_n = 5,\n",
    "                      max_n = 5,\n",
    "                      min_k = 3,\n",
    "                      max_k = 3,\n",
    "                      min_m = 20,\n",
    "                      max_m = 20)"
   ]
  },
  {
   "cell_type": "code",
   "execution_count": 8,
   "metadata": {},
   "outputs": [
    {
     "name": "stdout",
     "output_type": "stream",
     "text": [
      "n: 5\n",
      "m: 20\n",
      "r: 4.0\n",
      "[[-1, -3, -5], [3, -2, 4], [2, 5, -4], [2, 3, -5], [-1, -4, 5], [-2, 1, 3], [-4, 3, -2], [-1, 4, 3], [5, -1, 4], [-3, -5, 4], [1, -5, -3], [-1, -4, -3], [-2, 3, 4], [-1, 5, 2], [-1, 4, -3], [-5, -4, 2], [-5, -1, 2], [1, -3, -2], [3, -2, 1], [2, -3, 1]]\n"
     ]
    }
   ],
   "source": [
    "# Create a random sat formula\n",
    "n, m, r, formula = sat_gen.generate_formula()\n",
    "\n",
    "print(f'n: {n}')\n",
    "print(f'm: {m}')\n",
    "print(f'r: {r}')\n",
    "print(formula)"
   ]
  },
  {
   "cell_type": "code",
   "execution_count": 9,
   "metadata": {},
   "outputs": [
    {
     "name": "stdout",
     "output_type": "stream",
     "text": [
      "assignment: [1 1 1 1 1]\n",
      "num of sat clauses: 18 out of 20\n"
     ]
    }
   ],
   "source": [
    "# Create a random assignment\n",
    "assignment, num_sat = random_solver(n, formula)\n",
    "print(f'assignment: {assignment}')\n",
    "print(f'num of sat clauses: {num_sat} out of {m}')"
   ]
  },
  {
   "cell_type": "markdown",
   "metadata": {},
   "source": [
    "## Example 2\n",
    "\n",
    "Create a pair of random formulas via SRGenerator and use minisat_solver to check whether the formulas are sat or unsat."
   ]
  },
  {
   "cell_type": "code",
   "execution_count": 10,
   "metadata": {},
   "outputs": [],
   "source": [
    "from src.sat_generator import SRGenerator\n",
    "from src.solvers import minisat_solver"
   ]
  },
  {
   "cell_type": "code",
   "execution_count": 11,
   "metadata": {},
   "outputs": [],
   "source": [
    "# Create a sat generator\n",
    "sat_gen = SRGenerator(n = 20, \n",
    "                      p_bernoulli = 0.7,\n",
    "                      p_geometric = 0.4)"
   ]
  },
  {
   "cell_type": "code",
   "execution_count": 12,
   "metadata": {},
   "outputs": [
    {
     "name": "stdout",
     "output_type": "stream",
     "text": [
      "n: 20\n",
      "m: 107\n",
      "r: 5.35\n"
     ]
    }
   ],
   "source": [
    "# Create a random sat formula\n",
    "n, m, r, [formula_unsat, formula_sat] = sat_gen.generate_formula()\n",
    "\n",
    "print(f'n: {n}')\n",
    "print(f'm: {m}')\n",
    "print(f'r: {r}')"
   ]
  },
  {
   "cell_type": "code",
   "execution_count": 13,
   "metadata": {},
   "outputs": [
    {
     "name": "stdout",
     "output_type": "stream",
     "text": [
      "[[-14, 3, -7], [13, 10, -16], [19, -7], [18, -13], [-19, -1, -2, -20, -10, -9], [-17, -2, 16], [16, -7, -18, -4], [-6, 10, -12, 3], [1, -7, 9], [16, -9, -1, -19, 17], [-8, -3], [-10, 16, -15], [-18, 5, 10], [-6, 15], [20, -16, -3], [17, -15, -8], [-11, -14, -2], [-10, -19, -14, 18, -3], [8, -16, 10, -6, 18], [-11, 15, 12, -18, 3], [14, -13, 3], [3, -4, 19, -15], [18, -5, -8, -2, -9], [-20, -4, -1], [-10, 1, 8, 14], [9, 15, 3], [15, 16, -5], [3, 17, 5], [14, 20, 3], [17, 18, -14, 16], [-12, -13], [-11, -4, -18, -8], [-3, 9], [-8, 17, 4, 2], [1, 14], [-1, -11, 14, 8, -6], [-15, 6, 20], [15, 9, 1], [-5, 13], [-2, -5, -11], [9, 12], [9, -13, 8, 11, -6], [-7, 11], [16, 12, -3, 11], [-3, 9, 2, 16, 10, 1, 19, 5, 8, -7, 14, 17], [4, -14, -20, 16, -18], [14, 6, 13, -17], [-19, -18, -20, 1], [11, -3, 2, -10, -12, 16, -17], [-8, 7, 14, 9], [3, -18, -5], [9, 4, -10], [2, 5, -1, 16, -8], [-6, -19, 15, 12, -7], [13, 19, -4, -8, -7], [-20, -11, -6, -9, 7, 17, -18], [-7, 14, 15], [-12, 6, -19], [4, -5, 17], [13, 12, 6], [-1, -19, 8, 13], [12, -19, -8], [14, -19, 13], [-3, -10, -2, -20], [-13, 4, 7], [5, -15, -1, -18, 3], [15, -17, 13, 14, 11], [-2, 16, 18, 20, 3, -10], [-2, -15, -4], [16, 4], [-4, 7, -17], [-7, 9, -5, 6], [15, 11, -6], [17, 8], [-12, -10, 2], [17, 6, 18], [-1, 5, 13, -9], [-19, -2, 18, -12], [-19, -3], [-10, -16, 14, -13, 2], [-3, -16, 18], [-2, 6, 14], [16, 8, 20], [-7, -5], [4, -3, 11], [11, 7, -17, 16, 9, 1], [1, 10, -12, -3], [-10, -18, 8, -19, 11], [-8, 13, 17], [5, 19], [-17, 10, -8], [15, 14, -16, 6], [15, -5, 17, -7], [-14, -5, 16, -19, -13, -10], [20, 12, -3, 9, 8, 16, 14, -18, 13, 5, -2], [-10, 19, 17, 20, 18], [-10, -4, -2, 1, 6, -17], [-16, 14, -5, -1, -4, 19, 8], [-2, 20, 4, 10, -9], [-13, 19, 17, 2, -12], [8, -10, 9, -1, 6], [18, 9, 2, 6, -13], [-14, 4, -11, 9, 17, -16, 3, -2], [-18, -7, -17, 11], [10, 17, -13], [20, -9], [4, -17, 12, 20]]\n"
     ]
    }
   ],
   "source": [
    "print(formula_sat)"
   ]
  },
  {
   "cell_type": "code",
   "execution_count": 14,
   "metadata": {},
   "outputs": [
    {
     "name": "stdout",
     "output_type": "stream",
     "text": [
      "assignment: [0, 0, 0, 0, 0, 1, 0, 0, 1, 1, 1, 0, 0, 1, 1, 1, 1, 0, 1, 1]\n",
      "is_sat: True\n"
     ]
    }
   ],
   "source": [
    "# Using minisat_solver to check satifiability\n",
    "assignment, is_sat = minisat_solver(n, formula_sat)\n",
    "print(f'assignment: {assignment}') # None means there is no assigment that satisfies the formula.\n",
    "print(f'is_sat: {is_sat}')"
   ]
  },
  {
   "cell_type": "code",
   "execution_count": 15,
   "metadata": {},
   "outputs": [
    {
     "name": "stdout",
     "output_type": "stream",
     "text": [
      "[[-14, 3, -7], [13, 10, -16], [19, -7], [18, -13], [-19, -1, -2, -20, -10, -9], [-17, -2, 16], [16, -7, -18, -4], [-6, 10, -12, 3], [1, -7, 9], [16, -9, -1, -19, 17], [-8, -3], [-10, 16, -15], [-18, 5, 10], [-6, 15], [20, -16, -3], [17, -15, -8], [-11, -14, -2], [-10, -19, -14, 18, -3], [8, -16, 10, -6, 18], [-11, 15, 12, -18, 3], [14, -13, 3], [3, -4, 19, -15], [18, -5, -8, -2, -9], [-20, -4, -1], [-10, 1, 8, 14], [9, 15, 3], [15, 16, -5], [3, 17, 5], [14, 20, 3], [17, 18, -14, 16], [-12, -13], [-11, -4, -18, -8], [-3, 9], [-8, 17, 4, 2], [1, 14], [-1, -11, 14, 8, -6], [-15, 6, 20], [15, 9, 1], [-5, 13], [-2, -5, -11], [9, 12], [9, -13, 8, 11, -6], [-7, 11], [16, 12, -3, 11], [-3, 9, 2, 16, 10, 1, 19, 5, 8, -7, 14, 17], [4, -14, -20, 16, -18], [14, 6, 13, -17], [-19, -18, -20, 1], [11, -3, 2, -10, -12, 16, -17], [-8, 7, 14, 9], [3, -18, -5], [9, 4, -10], [2, 5, -1, 16, -8], [-6, -19, 15, 12, -7], [13, 19, -4, -8, -7], [-20, -11, -6, -9, 7, 17, -18], [-7, 14, 15], [-12, 6, -19], [4, -5, 17], [13, 12, 6], [-1, -19, 8, 13], [12, -19, -8], [14, -19, 13], [-3, -10, -2, -20], [-13, 4, 7], [5, -15, -1, -18, 3], [15, -17, 13, 14, 11], [-2, 16, 18, 20, 3, -10], [-2, -15, -4], [16, 4], [-4, 7, -17], [-7, 9, -5, 6], [15, 11, -6], [17, 8], [-12, -10, 2], [17, 6, 18], [-1, 5, 13, -9], [-19, -2, 18, -12], [-19, -3], [-10, -16, 14, -13, 2], [-3, -16, 18], [-2, 6, 14], [16, 8, 20], [-7, -5], [4, -3, 11], [11, 7, -17, 16, 9, 1], [1, 10, -12, -3], [-10, -18, 8, -19, 11], [-8, 13, 17], [5, 19], [-17, 10, -8], [15, 14, -16, 6], [15, -5, 17, -7], [-14, -5, 16, -19, -13, -10], [20, 12, -3, 9, 8, 16, 14, -18, 13, 5, -2], [-10, 19, 17, 20, 18], [-10, -4, -2, 1, 6, -17], [-16, 14, -5, -1, -4, 19, 8], [-2, 20, 4, 10, -9], [-13, 19, 17, 2, -12], [8, -10, 9, -1, 6], [18, 9, 2, 6, -13], [-14, 4, -11, 9, 17, -16, 3, -2], [-18, -7, -17, 11], [10, 17, -13], [20, -9], [4, -17, 12, -20]]\n"
     ]
    }
   ],
   "source": [
    "print(formula_unsat)"
   ]
  },
  {
   "cell_type": "code",
   "execution_count": 16,
   "metadata": {},
   "outputs": [
    {
     "name": "stdout",
     "output_type": "stream",
     "text": [
      "assignment: None\n",
      "is_sat: False\n"
     ]
    }
   ],
   "source": [
    "# Using minisat_solver to check satifiability\n",
    "assignment, is_sat = minisat_solver(n, formula_unsat)\n",
    "print(f'assignment: {assignment}') # None means there is no assigment that satisfies the formula.\n",
    "print(f'is_sat: {is_sat}')"
   ]
  },
  {
   "cell_type": "markdown",
   "metadata": {},
   "source": [
    "## Example 3\n",
    "\n",
    "Load a uf20-91 instance from the SATLIB dataset and check if a random assignment satisfies the formula.\n",
    "\n",
    "For this example we download the uf20-91 folder from https://www.cs.ubc.ca/~hoos/SATLIB/benchm.html and save it in the 'data' folder."
   ]
  },
  {
   "cell_type": "code",
   "execution_count": 17,
   "metadata": {},
   "outputs": [],
   "source": [
    "from src.solvers import random_solver\n",
    "import src.utils as utils"
   ]
  },
  {
   "cell_type": "code",
   "execution_count": 18,
   "metadata": {},
   "outputs": [
    {
     "name": "stdout",
     "output_type": "stream",
     "text": [
      "n: 20\n",
      "m: 91\n",
      "r: 4.55\n",
      "\n",
      "[[4, -18, 19], [3, 18, -5], [-5, -8, -15], [-20, 7, -16], [10, -13, -7], [-12, -9, 17], [17, 19, 5], [-16, 9, 15], [11, -5, -14], [18, -10, 13], [-3, 11, 12], [-6, -17, -8], [-18, 14, 1], [-19, -15, 10], [12, 18, -19], [-8, 4, 7], [-8, -9, 4], [7, 17, -15], [12, -7, -14], [-10, -11, 8], [2, -15, -11], [9, 6, 1], [-11, 20, -17], [9, -15, 13], [12, -7, -17], [-18, -2, 20], [20, 12, 4], [19, 11, 14], [-16, 18, -4], [-1, -17, -19], [-13, 15, 10], [-12, -14, -13], [12, -14, -7], [-7, 16, 10], [6, 10, 7], [20, 14, -16], [-19, 17, 11], [-7, 1, -20], [-5, 12, 15], [-4, -9, -13], [12, -11, -7], [-5, 19, -8], [1, 16, 17], [20, -14, -15], [13, -4, 10], [14, 7, 10], [-5, 9, 20], [10, 1, -19], [-16, -15, -1], [16, 3, -11], [-15, -10, 4], [4, -15, -3], [-10, -16, 11], [-8, 12, -5], [14, -6, 12], [1, 6, 11], [-13, -5, -1], [-7, -2, 12], [1, -20, 19], [-2, -13, -8], [15, 18, 4], [-11, 14, 9], [-6, -15, -2], [5, -12, -15], [-6, 17, 5], [-13, 5, -19], [20, -1, 14], [9, -17, 15], [-5, 19, -18], [-12, 8, -10], [-18, 14, -4], [15, -9, 13], [9, -5, -1], [10, -19, -14], [20, 9, 4], [-9, -2, 19], [-5, 13, -17], [2, -10, -18], [-18, 3, 11], [7, -9, 17], [-15, -6, -3], [-2, 3, -13], [12, 3, -2], [-2, -3, 17], [20, -15, -16], [-5, -17, -19], [-20, -18, 11], [-9, 1, -5], [-19, 9, 17], [12, -2, 17], [4, -16, -5]]\n"
     ]
    }
   ],
   "source": [
    "# Load the formula in dimacs format and convert to list \n",
    "dimacs_path =  'data/uf20-91/uf20-01.cnf'\n",
    "n, m, formula = utils.dimacs2list(dimacs_path = dimacs_path)\n",
    "\n",
    "print(f'n: {n}')\n",
    "print(f'm: {m}')\n",
    "print(f'r: {m/n}')\n",
    "print()\n",
    "print(formula)"
   ]
  },
  {
   "cell_type": "code",
   "execution_count": 19,
   "metadata": {},
   "outputs": [
    {
     "name": "stdout",
     "output_type": "stream",
     "text": [
      "assignment: [1 1 1 1 0 0 1 1 0 0 1 0 0 1 0 0 0 1 0 0]\n",
      "num of sat clauses: 81 out of 91\n"
     ]
    }
   ],
   "source": [
    "# Create a random assignment\n",
    "assignment, num_sat = random_solver(n, formula)\n",
    "print(f'assignment: {assignment}')\n",
    "print(f'num of sat clauses: {num_sat} out of {m}')"
   ]
  }
 ],
 "metadata": {
  "interpreter": {
   "hash": "2def132e6ff2d4a8f828400b7561c2d8eeec08ca69bfb84d2ccf8d1757b29253"
  },
  "kernelspec": {
   "display_name": "Python 3.7.0 64-bit ('torch_env': conda)",
   "name": "python3"
  },
  "language_info": {
   "codemirror_mode": {
    "name": "ipython",
    "version": 3
   },
   "file_extension": ".py",
   "mimetype": "text/x-python",
   "name": "python",
   "nbconvert_exporter": "python",
   "pygments_lexer": "ipython3",
   "version": "3.7.2"
  },
  "orig_nbformat": 4
 },
 "nbformat": 4,
 "nbformat_minor": 2
}
