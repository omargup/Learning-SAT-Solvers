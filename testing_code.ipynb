{
 "cells": [
  {
   "cell_type": "code",
   "execution_count": 1,
   "metadata": {},
   "outputs": [],
   "source": [
    "import torch\n",
    "\n",
    "from src.init_states import ZerosState, TrainableState\n",
    "from src.init_vars import BasicVars\n",
    "from src.init_contexts import EmptyContext\n",
    "from src.embeddings import BasicEmbedding, IdentityEmbedding\n",
    "\n",
    "from src.encoders import RNNEncoder\n",
    "from src.decoders import RNNDecoder\n",
    "#from src.architectures import RNNEncoder, RNNDecoder"
   ]
  },
  {
   "cell_type": "markdown",
   "metadata": {},
   "source": [
    "## Init states"
   ]
  },
  {
   "cell_type": "code",
   "execution_count": 4,
   "metadata": {},
   "outputs": [
    {
     "data": {
      "text/plain": [
       "torch.Size([1, 2, 4])"
      ]
     },
     "execution_count": 4,
     "metadata": {},
     "output_type": "execute_result"
    }
   ],
   "source": [
    "cell = 'GRU'\n",
    "hidden_size = 4\n",
    "num_layers = 1\n",
    "\n",
    "batch_size = 2\n",
    "\n",
    "init_state = ZerosState(cell, hidden_size, num_layers)\n",
    "state = init_state(batch_size)\n",
    "# ::state:: [num_layers, batch_size, hidden_size]\n",
    "state.shape"
   ]
  },
  {
   "cell_type": "code",
   "execution_count": 8,
   "metadata": {},
   "outputs": [
    {
     "data": {
      "text/plain": [
       "torch.Size([1, 2, 4])"
      ]
     },
     "execution_count": 8,
     "metadata": {},
     "output_type": "execute_result"
    }
   ],
   "source": [
    "cell = 'GRU'\n",
    "hidden_size = 4\n",
    "num_layers = 1\n",
    "\n",
    "batch_size = 2\n",
    "\n",
    "init_state = TrainableState(cell, hidden_size, num_layers, a=-0.8, b=0.8)\n",
    "state = init_state(batch_size)\n",
    "# ::state:: [num_layers, batch_size, hidden_size]\n",
    "state.shape"
   ]
  },
  {
   "cell_type": "markdown",
   "metadata": {},
   "source": [
    "## Init vars"
   ]
  },
  {
   "cell_type": "code",
   "execution_count": 4,
   "metadata": {},
   "outputs": [
    {
     "data": {
      "text/plain": [
       "torch.Size([1, 5, 1])"
      ]
     },
     "execution_count": 4,
     "metadata": {},
     "output_type": "execute_result"
    }
   ],
   "source": [
    "enc_output = None\n",
    "formula = None\n",
    "num_variables = 5\n",
    "variables =None\n",
    "\n",
    "init_dec_var = BasicVars()\n",
    "var = init_dec_var(enc_output, formula, num_variables, variables)\n",
    "# ::var:: [batch_size, seq_len, feature_size]\n",
    "var.shape"
   ]
  },
  {
   "cell_type": "markdown",
   "metadata": {},
   "source": [
    "## Init contexts"
   ]
  },
  {
   "cell_type": "code",
   "execution_count": 5,
   "metadata": {},
   "outputs": [
    {
     "data": {
      "text/plain": [
       "torch.Size([2, 0])"
      ]
     },
     "execution_count": 5,
     "metadata": {},
     "output_type": "execute_result"
    }
   ],
   "source": [
    "enc_output = None\n",
    "formula = None\n",
    "num_variables = 5\n",
    "variables = None\n",
    "batch_size = 2\n",
    "\n",
    "init_dec_context = EmptyContext()\n",
    "context = init_dec_context(enc_output, formula, num_variables, variables, batch_size)\n",
    "# ::context:: [batch_size, feature_size=0]\n",
    "context.shape"
   ]
  },
  {
   "cell_type": "markdown",
   "metadata": {},
   "source": [
    "## Embeddings"
   ]
  },
  {
   "cell_type": "code",
   "execution_count": 2,
   "metadata": {},
   "outputs": [
    {
     "data": {
      "text/plain": [
       "torch.Size([2, 4, 10])"
      ]
     },
     "execution_count": 2,
     "metadata": {},
     "output_type": "execute_result"
    }
   ],
   "source": [
    "num_labels = 5\n",
    "embedding_size = 10\n",
    "\n",
    "batch_size = 2\n",
    "seq_len = 4\n",
    "X = torch.randint(low=0, high=num_labels-1, size=(batch_size, seq_len, 1), dtype=torch.long)\n",
    "# ::X:: [batch_size, seq_len, features_size=1]\n",
    "\n",
    "embedding = BasicEmbedding(num_labels, embedding_size)\n",
    "X = embedding(X)\n",
    "# ::X:: [batch_size, seq_len, num_features=embedding_size]\n",
    "X.shape"
   ]
  },
  {
   "cell_type": "code",
   "execution_count": 4,
   "metadata": {},
   "outputs": [
    {
     "data": {
      "text/plain": [
       "torch.Size([2, 4, 5])"
      ]
     },
     "execution_count": 4,
     "metadata": {},
     "output_type": "execute_result"
    }
   ],
   "source": [
    "batch_size = 2\n",
    "seq_len = 4\n",
    "feature_size = 5\n",
    "X = torch.rand((batch_size, seq_len, feature_size))\n",
    "# ::X:: [batch_size, seq_len, features_size=1]\n",
    "\n",
    "embedding = IdentityEmbedding()\n",
    "X = embedding(X)\n",
    "# ::X:: [batch_size, seq_len, num_features=embedding_size]\n",
    "X.shape"
   ]
  },
  {
   "cell_type": "markdown",
   "metadata": {},
   "source": [
    "## Encoders"
   ]
  },
  {
   "cell_type": "code",
   "execution_count": 3,
   "metadata": {},
   "outputs": [
    {
     "name": "stdout",
     "output_type": "stream",
     "text": [
      "torch.Size([5, 2, 16])\n"
     ]
    }
   ],
   "source": [
    "cell = 'GRU'\n",
    "embedding_size = 7\n",
    "hidden_size = 16\n",
    "num_layers = 1\n",
    "\n",
    "enc_embedding = IdentityEmbedding()\n",
    "X = torch.rand((2, 5, embedding_size))\n",
    "# ::X:: [batch_size, seq_len, features_size=embedding_size]\n",
    "\n",
    "encoder = RNNEncoder(cell = cell,\n",
    "                     embedding = enc_embedding,\n",
    "                     embedding_size = embedding_size,\n",
    "                     hidden_size = hidden_size,\n",
    "                     num_layers = num_layers,\n",
    "                     dropout = 0)\n",
    "encoder.eval()\n",
    "output, state = encoder(X)\n",
    "# output shape: [seq_len, batch_size, hidden_size]\n",
    "# state shape: [num_layers, batch_size, hidden_size]\n",
    "print(output.shape) "
   ]
  },
  {
   "cell_type": "markdown",
   "metadata": {},
   "source": [
    "## Decoders"
   ]
  },
  {
   "cell_type": "code",
   "execution_count": 2,
   "metadata": {},
   "outputs": [
    {
     "name": "stdout",
     "output_type": "stream",
     "text": [
      "torch.Size([2, 3, 2])\n",
      "torch.Size([1, 2, 16])\n"
     ]
    }
   ],
   "source": [
    "cell = 'GRU'\n",
    "hidden_size = 16\n",
    "num_layers = 1\n",
    "dropout = 0\n",
    "clip_logits_c = 0\n",
    "\n",
    "batch_size = 2\n",
    "seq_len = 3\n",
    "embedding_size = 8\n",
    "assignment_emb = BasicEmbedding(num_labels=3, embedding_size=embedding_size)\n",
    "variable_emb = BasicEmbedding(num_labels=5, embedding_size=embedding_size)\n",
    "input_size = embedding_size * 3\n",
    "\n",
    "var = torch.randint(0, 4, [batch_size, seq_len, 1])\n",
    "# ::var:: [batch_size, seq_len, feature_size]\n",
    "a_prev = torch.randint(0, 2, [batch_size, seq_len, 1])\n",
    "# ::a_prev:: [batch_size, seq_len]\n",
    "context = torch.rand([batch_size, embedding_size])\n",
    "# ::context:: [batch_size, feature_size]\n",
    "state = torch.rand([num_layers, batch_size, hidden_size])\n",
    "# ::state:: [num_layers, batch_size, hidden_size]\n",
    "X = (var, a_prev, context)\n",
    "\n",
    "decoder  = RNNDecoder(input_size = input_size,\n",
    "                      cell = cell,\n",
    "                      assignment_emb = assignment_emb,\n",
    "                      variable_emb = variable_emb,\n",
    "                      hidden_size = hidden_size,\n",
    "                      num_layers = num_layers,\n",
    "                      dropout = 0,\n",
    "                      clip_logits_c = 0)\n",
    "decoder.eval()\n",
    "output, state = decoder(X, state)\n",
    "# output shape: [batch_size, seq_len, 2]\n",
    "# state shape: [num_layers, batch_size, hidden_size]\n",
    "print(output.shape)\n",
    "print(state.shape)"
   ]
  }
 ],
 "metadata": {
  "interpreter": {
   "hash": "2def132e6ff2d4a8f828400b7561c2d8eeec08ca69bfb84d2ccf8d1757b29253"
  },
  "kernelspec": {
   "display_name": "Python 3.7.2 ('torch_env')",
   "language": "python",
   "name": "python3"
  },
  "language_info": {
   "codemirror_mode": {
    "name": "ipython",
    "version": 3
   },
   "file_extension": ".py",
   "mimetype": "text/x-python",
   "name": "python",
   "nbconvert_exporter": "python",
   "pygments_lexer": "ipython3",
   "version": "3.7.2"
  },
  "orig_nbformat": 4
 },
 "nbformat": 4,
 "nbformat_minor": 2
}
