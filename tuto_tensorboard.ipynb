{
 "cells": [
  {
   "cell_type": "code",
   "execution_count": null,
   "metadata": {},
   "outputs": [],
   "source": [
    "import tensorboard as tb\n",
    "from torch.utils.tensorboard import SummaryWriter"
   ]
  },
  {
   "cell_type": "code",
   "execution_count": null,
   "metadata": {},
   "outputs": [],
   "source": [
    "# Writer will output to ./runs/ directory by default\n",
    "writer = SummaryWriter(log_dir='runs/exp1')\n",
    "\n",
    "for n_iter in range(100):\n",
    "    writer.add_scalar('Loss/train', np.random.random(), n_iter, new_style=True)\n",
    "    writer.add_scalar('Loss/test', np.random.random(), n_iter, new_style=True)\n",
    "    writer.add_scalar('Accuracy/train', np.random.random(), n_iter, new_style=True)\n",
    "    writer.add_scalar('Accuracy/test', np.random.random(), n_iter, new_style=True)\n",
    "\n",
    "writer.close()"
   ]
  },
  {
   "cell_type": "code",
   "execution_count": null,
   "metadata": {},
   "outputs": [],
   "source": [
    "#Delete an experiment uploded to tensorboard\n",
    "tensorboard dev delete --experiment_id EXPERIMENT_ID"
   ]
  },
  {
   "cell_type": "code",
   "execution_count": null,
   "metadata": {},
   "outputs": [],
   "source": [
    "print(df[\"run\"].unique())\n",
    "print(df[\"tag\"].unique())"
   ]
  },
  {
   "cell_type": "code",
   "execution_count": null,
   "metadata": {},
   "outputs": [],
   "source": [
    "#Getting a pivoted (wide-form) DataFrame\n",
    "dfw = experiment.get_scalars(pivot=True) \n",
    "dfw"
   ]
  },
  {
   "cell_type": "code",
   "execution_count": null,
   "metadata": {},
   "outputs": [],
   "source": [
    "csv_path = 'csv/tb_experiment_1.csv'\n",
    "dfw.to_csv(csv_path, index=False)\n",
    "df = pd.read_csv(csv_path)\n",
    "df"
   ]
  },
  {
   "cell_type": "code",
   "execution_count": null,
   "metadata": {},
   "outputs": [],
   "source": [
    "plt.figure(figsize=(16, 6))\n",
    "plt.subplot(1, 2, 1)\n",
    "sns.lineplot(data=dfw_validation, x=\"step\", y=\"epoch_accuracy\",\n",
    "             hue=optimizer_validation).set_title(\"accuracy\")\n",
    "plt.subplot(1, 2, 2)\n",
    "sns.lineplot(data=dfw_validation, x=\"step\", y=\"epoch_loss\",\n",
    "             hue=optimizer_validation).set_title(\"loss\")"
   ]
  }
 ],
 "metadata": {
  "language_info": {
   "name": "python"
  },
  "orig_nbformat": 4
 },
 "nbformat": 4,
 "nbformat_minor": 2
}
